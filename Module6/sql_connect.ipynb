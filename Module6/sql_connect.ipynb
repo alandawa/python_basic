{
 "cells": [
  {
   "cell_type": "code",
   "execution_count": 1,
   "metadata": {},
   "outputs": [
    {
     "name": "stdout",
     "output_type": "stream",
     "text": [
      "Collecting pymysql\n",
      "  Downloading PyMySQL-1.1.0-py3-none-any.whl.metadata (4.4 kB)\n",
      "Downloading PyMySQL-1.1.0-py3-none-any.whl (44 kB)\n",
      "   ---------------------------------------- 0.0/44.8 kB ? eta -:--:--\n",
      "   ------------------ --------------------- 20.5/44.8 kB 640.0 kB/s eta 0:00:01\n",
      "   ---------------------------------------- 44.8/44.8 kB 548.1 kB/s eta 0:00:00\n",
      "Installing collected packages: pymysql\n",
      "Successfully installed pymysql-1.1.0\n"
     ]
    }
   ],
   "source": [
    "!pip install pymysql"
   ]
  },
  {
   "cell_type": "code",
   "execution_count": 8,
   "metadata": {},
   "outputs": [
    {
     "name": "stdout",
     "output_type": "stream",
     "text": [
      "[{'Database': 'information_schema'}, {'Database': 'my_database'}, {'Database': 'my_ship'}, {'Database': 'my_titanic'}, {'Database': 'my_train_titanic'}, {'Database': 'mysql'}, {'Database': 'performance_schema'}, {'Database': 'petforum'}, {'Database': 'sakila'}, {'Database': 'servlet'}, {'Database': 'social_media_app'}, {'Database': 'sys'}, {'Database': 'transaction_test'}, {'Database': 'transaction_test2'}, {'Database': 'world'}]\n"
     ]
    }
   ],
   "source": [
    "import pymysql\n",
    "\n",
    "connection = pymysql.connect(\n",
    "    host='localhost',\n",
    "    user='root',\n",
    "    password='P@ssw0rd',\n",
    "    port=3306,\n",
    "    database='my_titanic',\n",
    "    cursorclass=pymysql.cursors.DictCursor\n",
    ")\n",
    "\n",
    "with connection.cursor() as cursor:\n",
    "    cursor.execute('SHOW DATABASES;')\n",
    "    result = cursor.fetchall()\n",
    "\n",
    "\n",
    "print(result)"
   ]
  },
  {
   "cell_type": "code",
   "execution_count": 9,
   "metadata": {},
   "outputs": [
    {
     "name": "stdout",
     "output_type": "stream",
     "text": [
      "[{'Tables_in_my_titanic': 'full_passengers'}]\n"
     ]
    }
   ],
   "source": [
    "with connection.cursor() as cursor:\n",
    "    cursor.execute('SHOW TABLES;')\n",
    "    result = cursor.fetchall()\n",
    "\n",
    "print(result)"
   ]
  },
  {
   "cell_type": "code",
   "execution_count": 21,
   "metadata": {},
   "outputs": [
    {
     "name": "stdout",
     "output_type": "stream",
     "text": [
      "[{'age': 29,\n",
      "  'boat': '2',\n",
      "  'body': None,\n",
      "  'cabin': 'B5',\n",
      "  'embarked': 'S',\n",
      "  'fare': Decimal('211.34'),\n",
      "  'homedest': 'St Louis, MO',\n",
      "  'id': 1,\n",
      "  'parch': 0,\n",
      "  'pclass': Decimal('1.00'),\n",
      "  'pname': 'Allen, Miss. Elisabeth Walton',\n",
      "  'sex': 'female',\n",
      "  'sibsp': 0,\n",
      "  'survived': Decimal('1.00'),\n",
      "  'ticket': '24160'},\n",
      " {'age': 1,\n",
      "  'boat': '11',\n",
      "  'body': None,\n",
      "  'cabin': 'C22 C26',\n",
      "  'embarked': 'S',\n",
      "  'fare': Decimal('151.55'),\n",
      "  'homedest': 'Montreal, PQ / Chesterville, ON',\n",
      "  'id': 2,\n",
      "  'parch': 2,\n",
      "  'pclass': Decimal('1.00'),\n",
      "  'pname': 'Allison, Master. Hudson Trevor',\n",
      "  'sex': 'male',\n",
      "  'sibsp': 1,\n",
      "  'survived': Decimal('1.00'),\n",
      "  'ticket': '113781'},\n",
      " {'age': 2,\n",
      "  'boat': '',\n",
      "  'body': None,\n",
      "  'cabin': 'C22 C26',\n",
      "  'embarked': 'S',\n",
      "  'fare': Decimal('151.55'),\n",
      "  'homedest': 'Montreal, PQ / Chesterville, ON',\n",
      "  'id': 3,\n",
      "  'parch': 2,\n",
      "  'pclass': Decimal('1.00'),\n",
      "  'pname': 'Allison, Miss. Helen Loraine',\n",
      "  'sex': 'female',\n",
      "  'sibsp': 1,\n",
      "  'survived': Decimal('0.00'),\n",
      "  'ticket': '113781'}]\n"
     ]
    }
   ],
   "source": [
    "from pprint import pprint\n",
    "with connection.cursor() as cursor:\n",
    "    cursor.execute('SELECT * FROM full_passengers;')\n",
    "    result = cursor.fetchall()\n",
    "\n",
    "pprint(result[:3])\n",
    "\n",
    "# for i in result:\n",
    "#     print(i['pname'])\n"
   ]
  },
  {
   "cell_type": "code",
   "execution_count": 19,
   "metadata": {},
   "outputs": [
    {
     "name": "stdout",
     "output_type": "stream",
     "text": [
      "21 1.00 Beckwith, Mr. Richard Leonard\n",
      "443 2.00 Hickman, Mr. Leonard Mark\n",
      "473 2.00 Kirkland, Rev. Charles Leonard\n",
      "827 3.00 Goodwin, Master. Sidney Leonard\n",
      "964 3.00 Leonard, Mr. Lionel\n",
      "1028 3.00 Moore, Mr. Leonard Charles\n",
      "1097 3.00 Palsson, Master. Gosta Leonard\n",
      "1240 3.00 Theobald, Mr. Thomas Leonard\n"
     ]
    }
   ],
   "source": [
    "with connection.cursor() as cursor:\n",
    "    cursor.execute('SELECT * FROM full_passengers;')\n",
    "    result = cursor.fetchall()\n",
    "\n",
    "for i in result:\n",
    "    if 'Leonard' in i['pname'] and i['sex'] == 'male':\n",
    "        print(i['id'], i['pclass'], i['pname']) "
   ]
  },
  {
   "cell_type": "code",
   "execution_count": 5,
   "metadata": {},
   "outputs": [
    {
     "name": "stdout",
     "output_type": "stream",
     "text": [
      "10\n"
     ]
    }
   ],
   "source": [
    "def example(a, b, c, d=0):\n",
    "    sum = a + b + c + d\n",
    "    return sum\n",
    "sum = example(1, 2, 3, 4)\n",
    "print(sum)"
   ]
  },
  {
   "cell_type": "code",
   "execution_count": 11,
   "metadata": {},
   "outputs": [
    {
     "name": "stdout",
     "output_type": "stream",
     "text": [
      "(1, 2, 3, 4, 5)\n"
     ]
    }
   ],
   "source": [
    "def example(*args, **kwargs):\n",
    "    print(args)\n",
    "    if kwargs.get('num') != None:\n",
    "        print(kwargs['num'])\n",
    "\n",
    "\n",
    "example(1, 2, 3, 4, 5, num2=100)"
   ]
  },
  {
   "cell_type": "code",
   "execution_count": null,
   "metadata": {},
   "outputs": [],
   "source": []
  }
 ],
 "metadata": {
  "kernelspec": {
   "display_name": "Python 3",
   "language": "python",
   "name": "python3"
  },
  "language_info": {
   "codemirror_mode": {
    "name": "ipython",
    "version": 3
   },
   "file_extension": ".py",
   "mimetype": "text/x-python",
   "name": "python",
   "nbconvert_exporter": "python",
   "pygments_lexer": "ipython3",
   "version": "3.12.3"
  }
 },
 "nbformat": 4,
 "nbformat_minor": 2
}
