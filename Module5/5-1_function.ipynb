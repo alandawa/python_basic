{
 "cells": [
  {
   "cell_type": "code",
   "execution_count": 11,
   "metadata": {},
   "outputs": [
    {
     "name": "stdout",
     "output_type": "stream",
     "text": [
      "Hello\n"
     ]
    }
   ],
   "source": [
    "# 建立 function 1\n",
    "def say_hello():\n",
    "    greet = 'Hello'\n",
    "    print(greet)\n",
    "\n",
    "x = say_hello()\n",
    "# print(x)"
   ]
  },
  {
   "cell_type": "code",
   "execution_count": 13,
   "metadata": {},
   "outputs": [
    {
     "name": "stdout",
     "output_type": "stream",
     "text": [
      "[1, 2, 3, 4]\n",
      "None\n"
     ]
    }
   ],
   "source": [
    "x = [1, 2, 3]\n",
    "p = x.append(4)\n",
    "print(x)\n",
    "print(p)"
   ]
  },
  {
   "cell_type": "code",
   "execution_count": 9,
   "metadata": {},
   "outputs": [
    {
     "name": "stdout",
     "output_type": "stream",
     "text": [
      "Jarvis\n"
     ]
    }
   ],
   "source": [
    "# 建立 function 2 return值\n",
    "def get_name():\n",
    "    name = 'Jarvis'\n",
    "    return name\n",
    "\n",
    "name_from_func = get_name()\n",
    "print(name_from_func)"
   ]
  },
  {
   "cell_type": "code",
   "execution_count": 18,
   "metadata": {},
   "outputs": [
    {
     "name": "stdout",
     "output_type": "stream",
     "text": [
      "Hello, Jarvis\n"
     ]
    },
    {
     "ename": "TypeError",
     "evalue": "get_greeting1() missing 1 required positional argument: 'name'",
     "output_type": "error",
     "traceback": [
      "\u001b[1;31m---------------------------------------------------------------------------\u001b[0m",
      "\u001b[1;31mTypeError\u001b[0m                                 Traceback (most recent call last)",
      "Cell \u001b[1;32mIn[18], line 8\u001b[0m\n\u001b[0;32m      5\u001b[0m result \u001b[38;5;241m=\u001b[39m get_greeting1(\u001b[38;5;124m'\u001b[39m\u001b[38;5;124mJarvis\u001b[39m\u001b[38;5;124m'\u001b[39m)\n\u001b[0;32m      6\u001b[0m \u001b[38;5;28mprint\u001b[39m(result)\n\u001b[1;32m----> 8\u001b[0m \u001b[43mget_greeting1\u001b[49m\u001b[43m(\u001b[49m\u001b[43m)\u001b[49m\n",
      "\u001b[1;31mTypeError\u001b[0m: get_greeting1() missing 1 required positional argument: 'name'"
     ]
    }
   ],
   "source": [
    "# 建立 function 3 # 帶參數\n",
    "def get_greeting1(name):\n",
    "    return f\"Hello, {name}\"\n",
    "\n",
    "result = get_greeting1('Jarvis')\n",
    "print(result)\n",
    "\n",
    "get_greeting1()"
   ]
  },
  {
   "cell_type": "code",
   "execution_count": 22,
   "metadata": {},
   "outputs": [
    {
     "name": "stdout",
     "output_type": "stream",
     "text": [
      "Hello, Teacher\n"
     ]
    }
   ],
   "source": [
    "# 建立 function 4 預設參數\n",
    "def get_greeting(name='Teacher'):\n",
    "    return f\"Hello, {name}\"\n",
    "\n",
    "result = get_greeting()\n",
    "print(result)\n"
   ]
  },
  {
   "cell_type": "code",
   "execution_count": 25,
   "metadata": {},
   "outputs": [
    {
     "name": "stdout",
     "output_type": "stream",
     "text": [
      "None\n",
      "[2, 4, 6, 8, 10, 12, 14, 16, 18, 20, 22, 24, 26, 28, 30, 32, 34, 36, 38, 40, 42, 44, 46, 48, 50]\n"
     ]
    }
   ],
   "source": [
    "def remove_odd_numbers(x):\n",
    "    for num in x:\n",
    "        if num % 2 != 0:\n",
    "            x.remove(num)\n",
    "\n",
    "# 全域變數\n",
    "num_list = [i for i in range(1, 51)]\n",
    "# print(remove_odd_numbers())\n",
    "print(remove_odd_numbers(num_list))\n",
    "\n",
    "remove_odd_numbers(num_list)\n",
    "print(num_list)"
   ]
  },
  {
   "cell_type": "code",
   "execution_count": 26,
   "metadata": {},
   "outputs": [
    {
     "name": "stdout",
     "output_type": "stream",
     "text": [
      "[1, 3, 5, 7, 9, 11, 13, 15, 17, 19, 21, 23, 25, 27, 29, 31, 33, 35, 37, 39, 41, 43, 45, 47, 49]\n"
     ]
    }
   ],
   "source": [
    "def get_odd_numbers(num_list):\n",
    "    odd_num_list = []\n",
    "    for num in num_list:\n",
    "        if num % 2 != 0:\n",
    "            odd_num_list.append(num)\n",
    "            \n",
    "    return odd_num_list\n",
    "\n",
    "num_list = [i for i in range(1, 51)]\n",
    "odd_numbers_list = get_odd_numbers(num_list)\n",
    "print(odd_numbers_list)"
   ]
  },
  {
   "cell_type": "code",
   "execution_count": null,
   "metadata": {},
   "outputs": [],
   "source": []
  }
 ],
 "metadata": {
  "kernelspec": {
   "display_name": "Python 3",
   "language": "python",
   "name": "python3"
  },
  "language_info": {
   "codemirror_mode": {
    "name": "ipython",
    "version": 3
   },
   "file_extension": ".py",
   "mimetype": "text/x-python",
   "name": "python",
   "nbconvert_exporter": "python",
   "pygments_lexer": "ipython3",
   "version": "3.12.3"
  }
 },
 "nbformat": 4,
 "nbformat_minor": 2
}
