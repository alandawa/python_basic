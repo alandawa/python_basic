{
 "cells": [
  {
   "cell_type": "code",
   "execution_count": 2,
   "metadata": {},
   "outputs": [
    {
     "name": "stdout",
     "output_type": "stream",
     "text": [
      "Bill\n"
     ]
    }
   ],
   "source": [
    "# 全域變數\n",
    "name = 'Bill'\n",
    "\n",
    "# 定義函式\n",
    "def get_name():\n",
    "    # 區域變數\n",
    "    name = 'Jarvis'\n",
    "\n",
    "    return name\n",
    "# 執行函式\n",
    "get_name()\n",
    "\n",
    "# 輸出 name\n",
    "print(name)\n"
   ]
  },
  {
   "cell_type": "markdown",
   "metadata": {},
   "source": [
    "##### 使用 global 讓函式存取全域變數的值"
   ]
  },
  {
   "cell_type": "code",
   "execution_count": 3,
   "metadata": {},
   "outputs": [
    {
     "name": "stdout",
     "output_type": "stream",
     "text": [
      "Jarvis\n"
     ]
    }
   ],
   "source": [
    "# 全域變數\n",
    "name = 'Bill'\n",
    "\n",
    "# 定義函式\n",
    "def get_name():\n",
    "\n",
    "    global name\n",
    "    # 區域變數\n",
    "    name = 'Jarvis'\n",
    "\n",
    "    return name\n",
    "# 執行函式\n",
    "get_name()\n",
    "\n",
    "# 輸出 name\n",
    "print(name)\n"
   ]
  },
  {
   "cell_type": "code",
   "execution_count": 4,
   "metadata": {},
   "outputs": [
    {
     "name": "stdout",
     "output_type": "stream",
     "text": [
      "Hello World\n"
     ]
    }
   ],
   "source": [
    "success = False\n",
    "\n",
    "def do_something():\n",
    "    global success\n",
    "\n",
    "    print('Hello World')\n",
    "\n",
    "    success = True\n",
    "\n",
    "while not success:\n",
    "    do_something()"
   ]
  }
 ],
 "metadata": {
  "kernelspec": {
   "display_name": "Python 3",
   "language": "python",
   "name": "python3"
  },
  "language_info": {
   "codemirror_mode": {
    "name": "ipython",
    "version": 3
   },
   "file_extension": ".py",
   "mimetype": "text/x-python",
   "name": "python",
   "nbconvert_exporter": "python",
   "pygments_lexer": "ipython3",
   "version": "3.12.3"
  }
 },
 "nbformat": 4,
 "nbformat_minor": 2
}
