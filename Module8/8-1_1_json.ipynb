{
 "cells": [
  {
   "cell_type": "code",
   "execution_count": 7,
   "metadata": {},
   "outputs": [],
   "source": [
    "import json\n",
    "\n",
    "list_1_to_50 = [i for i in range(1, 51)]\n",
    "with open('./test3.json', 'w') as f:\n",
    "    f.write(json.dumps(list_1_to_50))"
   ]
  },
  {
   "cell_type": "code",
   "execution_count": 8,
   "metadata": {},
   "outputs": [
    {
     "name": "stdout",
     "output_type": "stream",
     "text": [
      "<class 'str'>\n",
      "X\n"
     ]
    }
   ],
   "source": [
    "with open('./test3.json', 'r') as f:\n",
    "    test3_data = f.read() # 回傳 str \n",
    "    test3_list = json.loads(test3_data)\n",
    "\n",
    "print(type(test3_list))\n",
    "print(test3_list[0])"
   ]
  },
  {
   "cell_type": "code",
   "execution_count": 10,
   "metadata": {},
   "outputs": [],
   "source": [
    "list_1_to_50 = [i for i in range(1, 51)]\n",
    "with open('./test4.json', 'w') as f:\n",
    "    json.dump(list_1_to_50, f)"
   ]
  },
  {
   "cell_type": "code",
   "execution_count": 12,
   "metadata": {},
   "outputs": [
    {
     "name": "stdout",
     "output_type": "stream",
     "text": [
      "[1, 2, 3, 4, 5, 6, 7, 8, 9, 10, 11, 12, 13, 14, 15, 16, 17, 18, 19, 20, 21, 22, 23, 24, 25, 26, 27, 28, 29, 30, 31, 32, 33, 34, 35, 36, 37, 38, 39, 40, 41, 42, 43, 44, 45, 46, 47, 48, 49, 50]\n"
     ]
    }
   ],
   "source": [
    "with open('./test4.json', 'r') as f:\n",
    "    data = json.load(f)\n",
    "\n",
    "print(data)"
   ]
  },
  {
   "cell_type": "code",
   "execution_count": 17,
   "metadata": {},
   "outputs": [],
   "source": [
    "fruit_dict = {\n",
    "    'apple': {\n",
    "        'price': 100,\n",
    "        'quantity': 50,\n",
    "        'color': ['green', 'red']\n",
    "    },\n",
    "    'orange': {\n",
    "        'price': 70,\n",
    "        'quantity': 30,\n",
    "        'color': ['orange']\n",
    "    },   \n",
    "    'banana': {\n",
    "        'price': 200,\n",
    "        'quantity': 50,\n",
    "        'color': ['green', 'red']\n",
    "    },\n",
    "    'grape': {\n",
    "        'price': 70,\n",
    "        'quantity': 30,\n",
    "        'color': ['purple']\n",
    "    }\n",
    "}\n",
    "\n",
    "with open('test_dict.json', 'w') as f:\n",
    "    json.dump(fruit_dict, f, indent=4)"
   ]
  },
  {
   "cell_type": "code",
   "execution_count": null,
   "metadata": {},
   "outputs": [],
   "source": []
  }
 ],
 "metadata": {
  "kernelspec": {
   "display_name": "Python 3",
   "language": "python",
   "name": "python3"
  },
  "language_info": {
   "codemirror_mode": {
    "name": "ipython",
    "version": 3
   },
   "file_extension": ".py",
   "mimetype": "text/x-python",
   "name": "python",
   "nbconvert_exporter": "python",
   "pygments_lexer": "ipython3",
   "version": "3.12.3"
  }
 },
 "nbformat": 4,
 "nbformat_minor": 2
}
