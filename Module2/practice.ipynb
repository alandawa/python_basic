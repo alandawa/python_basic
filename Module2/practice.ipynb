{
 "cells": [
  {
   "cell_type": "markdown",
   "metadata": {},
   "source": [
    "百貨公司周年慶 消費金額超過 2000 要折 200  \n",
    "\n",
    "請撰寫一支程式  \n",
    "計算客戶消費的結帳金額"
   ]
  },
  {
   "cell_type": "code",
   "execution_count": 1,
   "metadata": {},
   "outputs": [],
   "source": [
    "def calculate_final_amount(purchase_amount):\n",
    "    \"\"\"\n",
    "    計算客戶結帳金額，若消費超過 2000 元則折扣 200 元\n",
    "    :param purchase_amount: 客戶的消費金額\n",
    "    :return: 結帳金額\n",
    "    \"\"\"\n",
    "    discount_threshold = 2000  # 消費金額門檻\n",
    "    discount_amount = 200      # 折扣金額\n",
    "\n",
    "    if purchase_amount > discount_threshold:\n",
    "        final_amount = purchase_amount - discount_amount\n",
    "    else:\n",
    "        final_amount = purchase_amount\n",
    "\n",
    "    return final_amount\n",
    "\n",
    "# 讀取用戶的消費金額\n",
    "try:\n",
    "    amount = float(input(\"請輸入您的消費金額: \"))\n",
    "    if amount < 0:\n",
    "        print(\"消費金額不能為負數。\")\n",
    "    else:\n",
    "        # 計算結帳金額\n",
    "        total_amount = calculate_final_amount(amount)\n",
    "        print(f\"您的結帳金額為: {total_amount} 元\")\n",
    "except ValueError:\n",
    "    print(\"請輸入有效的數字。\")\n"
   ]
  }
 ],
 "metadata": {
  "kernelspec": {
   "display_name": "py39",
   "language": "python",
   "name": "python3"
  },
  "language_info": {
   "codemirror_mode": {
    "name": "ipython",
    "version": 3
   },
   "file_extension": ".py",
   "mimetype": "text/x-python",
   "name": "python",
   "nbconvert_exporter": "python",
   "pygments_lexer": "ipython3",
   "version": "3.9.19"
  }
 },
 "nbformat": 4,
 "nbformat_minor": 2
}
