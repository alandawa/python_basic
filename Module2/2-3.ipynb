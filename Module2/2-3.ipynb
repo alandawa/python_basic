{
 "cells": [
  {
   "cell_type": "markdown",
   "metadata": {},
   "source": [
    "以下是 Python 中各種基本型態的創建方式：\n",
    "\n",
    "| 基本型態 | int | float | boolean | string |\n",
    "|:---:|:---:|:---:|:---:|:---:|\n",
    "| 創建方式 | `x = 5` | `y = 3.14` | `z = True` | `s = \"Hello, world!\"` |\n"
   ]
  },
  {
   "cell_type": "markdown",
   "metadata": {},
   "source": [
    "\n",
    "以下是 Python 中各種容器型態的創建方式：\n",
    "\n",
    "| 容器型態 | list | tuple | set | dict |\n",
    "|:---:|:---:|:---:|:---:|:---:|\n",
    "| 創建方式 | `my_list = [1, 2, 3, 4, 5]` | `my_tuple = (1, 2, 3, 4, 5)` | `my_set = {1, 2, 3, 4, 5}` | `my_dict = {'name': 'Alice', 'age': 30}` |\n"
   ]
  },
  {
   "cell_type": "markdown",
   "metadata": {},
   "source": [
    "\n",
    "### 基本型態\n",
    "\n",
    "1. **整數 (int)**\n",
    "   ```python\n",
    "   x = 5\n",
    "   ```\n",
    "\n",
    "2. **浮點數 (float)**\n",
    "   ```python\n",
    "   y = 3.14\n",
    "   ```\n",
    "\n",
    "3. **布林值 (boolean)**\n",
    "   ```python\n",
    "   z = True\n",
    "   ```\n",
    "\n",
    "4. **字串 (string)**\n",
    "   ```python\n",
    "   s = \"Hello, world!\"\n",
    "   ```\n",
    "\n",
    "### 容器型態\n",
    "\n",
    "1. **列表 (list)**\n",
    "   ```python\n",
    "   my_list = [1, 2, 3, 4, 5]\n",
    "   ```\n",
    "\n",
    "2. **元組 (tuple)**\n",
    "   ```python\n",
    "   my_tuple = (1, 2, 3, 4, 5)\n",
    "   ```\n",
    "\n",
    "3. **集合 (set)**\n",
    "   ```python\n",
    "   my_set = {1, 2, 3, 4, 5}\n",
    "   ```\n",
    "\n",
    "4. **字典 (dict)**\n",
    "   ```python\n",
    "   my_dict = {'name': 'Alice', 'age': 30}\n",
    "   ```\n",
    "\n"
   ]
  },
  {
   "cell_type": "markdown",
   "metadata": {},
   "source": []
  }
 ],
 "metadata": {
  "kernelspec": {
   "display_name": "py39",
   "language": "python",
   "name": "python3"
  },
  "language_info": {
   "codemirror_mode": {
    "name": "ipython",
    "version": 3
   },
   "file_extension": ".py",
   "mimetype": "text/x-python",
   "name": "python",
   "nbconvert_exporter": "python",
   "pygments_lexer": "ipython3",
   "version": "3.9.19"
  }
 },
 "nbformat": 4,
 "nbformat_minor": 2
}
