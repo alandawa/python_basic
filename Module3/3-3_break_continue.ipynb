{
 "cells": [
  {
   "cell_type": "markdown",
   "metadata": {},
   "source": [
    "##### break"
   ]
  },
  {
   "cell_type": "code",
   "execution_count": 1,
   "metadata": {},
   "outputs": [
    {
     "name": "stdout",
     "output_type": "stream",
     "text": [
      "c o n "
     ]
    }
   ],
   "source": [
    "'''\n",
    "當偵測到字母 t 時，就會強制結束迴圈\n",
    "'''\n",
    "content = 'contents'\n",
    "\n",
    "for char in content:\n",
    "    if char == 't':\n",
    "        break\n",
    "\n",
    "    print(char, end=' ')"
   ]
  },
  {
   "cell_type": "code",
   "execution_count": 2,
   "metadata": {},
   "outputs": [
    {
     "name": "stdout",
     "output_type": "stream",
     "text": [
      "11, 12, 13, 14, 15, 16, 17, 18, 19, 20, 21, "
     ]
    }
   ],
   "source": [
    "num = 10\n",
    "while True:\n",
    "    num += 1\n",
    "    print(num, end=', ')\n",
    "    if num > 20:\n",
    "        break"
   ]
  },
  {
   "cell_type": "markdown",
   "metadata": {},
   "source": [
    "##### continue"
   ]
  },
  {
   "cell_type": "code",
   "execution_count": 3,
   "metadata": {},
   "outputs": [
    {
     "name": "stdout",
     "output_type": "stream",
     "text": [
      "c o n e n s "
     ]
    }
   ],
   "source": [
    "'''\n",
    "當偵測到字母 t 時，\n",
    "會跳過本次迴圈剩下的程式碼 print(char)，\n",
    "但不會結束迴圈，仍然會進入下一圈繼續執行\n",
    "'''\n",
    "content = 'contents'\n",
    "\n",
    "for char in content:\n",
    "    if char == 't':\n",
    "        continue\n",
    "    print(char, end=' ')\n"
   ]
  },
  {
   "cell_type": "markdown",
   "metadata": {},
   "source": [
    "### 小試身手\n",
    "計算 1 到 100 之間的和，如果值超過500就停止執行"
   ]
  },
  {
   "cell_type": "code",
   "execution_count": 4,
   "metadata": {},
   "outputs": [
    {
     "name": "stdout",
     "output_type": "stream",
     "text": [
      "528\n"
     ]
    }
   ],
   "source": [
    "def sum_until_limit(limit):\n",
    "    total = 0\n",
    "    current = 1\n",
    "    \n",
    "    while current <= 100:\n",
    "        total += current\n",
    "        if total > limit:\n",
    "            break\n",
    "        current += 1\n",
    "    \n",
    "    return total\n",
    "\n",
    "# 設定超過 500 時停止\n",
    "limit = 500\n",
    "result = sum_until_limit(limit)\n",
    "print(result)\n"
   ]
  },
  {
   "cell_type": "markdown",
   "metadata": {},
   "source": [
    "計算 1 到 100 之間的奇數之和，但要跳過所有被 5 整除的數"
   ]
  },
  {
   "cell_type": "code",
   "execution_count": 5,
   "metadata": {},
   "outputs": [
    {
     "name": "stdout",
     "output_type": "stream",
     "text": [
      "2000\n"
     ]
    }
   ],
   "source": [
    "def sum_odd_exclude_multiples_of_five(start, end):\n",
    "    total = 0\n",
    "    for number in range(start, end + 1):\n",
    "        # 檢查是否是奇數且不能被 5 整除\n",
    "        if number % 2 != 0 and number % 5 != 0:\n",
    "            total += number\n",
    "    return total\n",
    "\n",
    "# 計算從 1 到 100 之間的奇數總和，但跳過能被 5 整除的數字\n",
    "result = sum_odd_exclude_multiples_of_five(1, 100)\n",
    "print(result)\n"
   ]
  }
 ],
 "metadata": {
  "kernelspec": {
   "display_name": "py39",
   "language": "python",
   "name": "python3"
  },
  "language_info": {
   "codemirror_mode": {
    "name": "ipython",
    "version": 3
   },
   "file_extension": ".py",
   "mimetype": "text/x-python",
   "name": "python",
   "nbconvert_exporter": "python",
   "pygments_lexer": "ipython3",
   "version": "3.9.19"
  }
 },
 "nbformat": 4,
 "nbformat_minor": 2
}
