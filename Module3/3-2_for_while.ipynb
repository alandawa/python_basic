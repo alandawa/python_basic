{
 "cells": [
  {
   "cell_type": "markdown",
   "metadata": {},
   "source": [
    "|用法| range(m-1) | range(n, m-1) | range(n, m-1, step) |\n",
    "|:---:|:---:|:---:|:---:|\n",
    "|說明|走訪 0 到 m-1 的數字 | 走訪 n 到 m-1 的數字 |以step為間距，走訪 n 到 m-1 的數字|\n"
   ]
  },
  {
   "cell_type": "markdown",
   "metadata": {},
   "source": [
    "#### for `range(m-1)`\n",
    "\n",
    "這種用法生成從 0 到 `m-1` 的整數序列，通常用於遍歷一個固定範圍內的數字。"
   ]
  },
  {
   "cell_type": "code",
   "execution_count": 1,
   "metadata": {},
   "outputs": [
    {
     "name": "stdout",
     "output_type": "stream",
     "text": [
      "0\n",
      "1\n",
      "2\n",
      "3\n"
     ]
    }
   ],
   "source": [
    "m = 5\n",
    "for i in range(m-1):\n",
    "    print(i)"
   ]
  },
  {
   "cell_type": "markdown",
   "metadata": {},
   "source": [
    "#### for `range(n, m-1)`\n",
    "\n",
    "這種用法生成從 `n` 到 `m-1` 的整數序列，`n` 是開始的數字，`m-1` 是結束的數字（不包含 `m-1`）。"
   ]
  },
  {
   "cell_type": "code",
   "execution_count": 2,
   "metadata": {},
   "outputs": [
    {
     "name": "stdout",
     "output_type": "stream",
     "text": [
      "3\n",
      "4\n",
      "5\n",
      "6\n"
     ]
    }
   ],
   "source": [
    "n = 3\n",
    "m = 8\n",
    "for i in range(n, m-1):\n",
    "    print(i)\n"
   ]
  },
  {
   "cell_type": "markdown",
   "metadata": {},
   "source": [
    "#### for `range(n, m-1, step)`\n",
    "\n",
    "這種用法生成從 `n` 到 `m-1` 的整數序列，其中 `step` 是步進的間距。這樣可以控制數字之間的間隔。"
   ]
  },
  {
   "cell_type": "code",
   "execution_count": 3,
   "metadata": {},
   "outputs": [
    {
     "name": "stdout",
     "output_type": "stream",
     "text": [
      "2\n",
      "4\n",
      "6\n",
      "8\n"
     ]
    }
   ],
   "source": [
    "n = 2\n",
    "m = 10\n",
    "step = 2\n",
    "for i in range(n, m-1, step):\n",
    "    print(i)\n"
   ]
  },
  {
   "cell_type": "markdown",
   "metadata": {},
   "source": [
    "### 小試身手 for  \n",
    "請產出 a 開頭的 n 個偶數(含 a 本身)  \n",
    "Ex:  \n",
    "a = 5, n = 3  \n",
    "Output : 6 8 10\n",
    "\n",
    "a = 4, n = 5  \n",
    "Output : 4 6 8 10 12"
   ]
  },
  {
   "cell_type": "code",
   "execution_count": 4,
   "metadata": {},
   "outputs": [
    {
     "name": "stdout",
     "output_type": "stream",
     "text": [
      "6 8 10\n",
      "4 6 8 10 12\n"
     ]
    }
   ],
   "source": [
    "def generate_even_numbers(a, n):\n",
    "    # 如果 a 不是偶數，則從 a + 1 開始\n",
    "    if a % 2 != 0:\n",
    "        a += 1\n",
    "    \n",
    "    even_numbers = []\n",
    "    for i in range(n):\n",
    "        even_numbers.append(a + i * 2)\n",
    "    \n",
    "    return even_numbers\n",
    "\n",
    "# 測試範例\n",
    "a = 5\n",
    "n = 3\n",
    "result = generate_even_numbers(a, n)\n",
    "print(\" \".join(map(str, result)))  # 輸出: 6 8 10\n",
    "\n",
    "a = 4\n",
    "n = 5\n",
    "result = generate_even_numbers(a, n)\n",
    "print(\" \".join(map(str, result)))  # 輸出: 4 6 8 10 12\n"
   ]
  },
  {
   "cell_type": "markdown",
   "metadata": {},
   "source": [
    "-----\n",
    "##### while"
   ]
  },
  {
   "cell_type": "code",
   "execution_count": 5,
   "metadata": {},
   "outputs": [
    {
     "name": "stdout",
     "output_type": "stream",
     "text": [
      "6 8 10\n",
      "4 6 8 10 12\n"
     ]
    }
   ],
   "source": [
    "def generate_even_numbers(a, n):\n",
    "    # 初始化空列表來儲存偶數\n",
    "    even_numbers = []\n",
    "    \n",
    "    # 如果 a 不是偶數，則從 a + 1 開始\n",
    "    if a % 2 != 0:\n",
    "        a += 1\n",
    "    \n",
    "    # 使用 while 迴圈來生成 n 個偶數\n",
    "    count = 0\n",
    "    while count < n:\n",
    "        even_numbers.append(a)\n",
    "        a += 2\n",
    "        count += 1\n",
    "    \n",
    "    return even_numbers\n",
    "\n",
    "# 測試範例\n",
    "a = 5\n",
    "n = 3\n",
    "result = generate_even_numbers(a, n)\n",
    "print(\" \".join(map(str, result)))  # 輸出: 6 8 10\n",
    "\n",
    "a = 4\n",
    "n = 5\n",
    "result = generate_even_numbers(a, n)\n",
    "print(\" \".join(map(str, result)))  # 輸出: 4 6 8 10 12\n",
    "\n",
    "\n"
   ]
  }
 ],
 "metadata": {
  "kernelspec": {
   "display_name": "Python 3",
   "language": "python",
   "name": "python3"
  },
  "language_info": {
   "codemirror_mode": {
    "name": "ipython",
    "version": 3
   },
   "file_extension": ".py",
   "mimetype": "text/x-python",
   "name": "python",
   "nbconvert_exporter": "python",
   "pygments_lexer": "ipython3",
   "version": "3.9.19"
  }
 },
 "nbformat": 4,
 "nbformat_minor": 2
}
