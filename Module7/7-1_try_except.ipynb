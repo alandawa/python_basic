{
 "cells": [
  {
   "cell_type": "markdown",
   "metadata": {},
   "source": [
    "### 例外處理\n",
    "\n",
    "在 Python 中，異常處理是使用 `try...except` 語句來實現的。這樣可以捕捉和處理程序中可能出現的錯誤，防止程序崩潰。可以根據需要連續定義多個 `except` 區塊來處理不同類型的異常，也可以使用 `else` 和 `finally` 來進一步控制程式的行為。以下是對這些概念的詳細解釋和示例：\n",
    "\n"
   ]
  },
  {
   "cell_type": "markdown",
   "metadata": {},
   "source": [
    "### `try...except` 語句\n",
    "基本的異常處理結構是 `try...except`，其語法如下：\n",
    "\n",
    "在 `try` 區塊中，放置可能會引發異常的代碼。如果發生異常，程序會跳轉到相應的 `except` 區塊進行處理。"
   ]
  },
  {
   "cell_type": "code",
   "execution_count": 1,
   "metadata": {},
   "outputs": [],
   "source": [
    "try:\n",
    "    # 可能會引發異常的代碼\n",
    "    pass\n",
    "except (ExceptionType1, ExceptionType2) as e:\n",
    "    # 異常處理代碼\n",
    "    pass"
   ]
  },
  {
   "cell_type": "markdown",
   "metadata": {},
   "source": [
    "### 連續定義數個 `except` 區塊\n",
    "\n",
    "可以連續定義多個 `except` 區塊來處理不同的異常類型。Python 會按照定義的順序檢查異常，找到最符合的異常類型並處理它。"
   ]
  },
  {
   "cell_type": "code",
   "execution_count": 2,
   "metadata": {},
   "outputs": [
    {
     "name": "stdout",
     "output_type": "stream",
     "text": [
      "ValueError occurred: invalid literal for int() with base 10: 'foo'\n"
     ]
    }
   ],
   "source": [
    "try:\n",
    "    x = int(\"foo\")  # 這行代碼會引發 ValueError\n",
    "except ValueError as e:\n",
    "    print(f\"ValueError occurred: {e}\")\n",
    "except TypeError as e:\n",
    "    print(f\"TypeError occurred: {e}\")"
   ]
  },
  {
   "cell_type": "markdown",
   "metadata": {},
   "source": [
    "### `else` 和 `finally`\n",
    "\n",
    "#### `else` 區塊\n",
    "\n",
    "`else` 區塊在 `try` 區塊中的代碼沒有引發異常時執行。如果 `try` 區塊中的代碼引發了異常，`else` 區塊將不會執行。"
   ]
  },
  {
   "cell_type": "code",
   "execution_count": 3,
   "metadata": {},
   "outputs": [
    {
     "name": "stdout",
     "output_type": "stream",
     "text": [
      "No exception occurred. 'else' block executed.\n"
     ]
    }
   ],
   "source": [
    "try:\n",
    "    x = 1 / 1  # 不會引發異常\n",
    "except ZeroDivisionError as e:\n",
    "    print(f\"ZeroDivisionError occurred: {e}\")\n",
    "else:\n",
    "    print(\"No exception occurred. 'else' block executed.\")"
   ]
  },
  {
   "cell_type": "markdown",
   "metadata": {},
   "source": [
    "#### `finally` 區塊\n",
    "\n",
    "`finally` 區塊無論 `try` 區塊是否引發異常都會執行。這通常用於執行清理操作，如關閉文件或釋放資源。"
   ]
  },
  {
   "cell_type": "code",
   "execution_count": null,
   "metadata": {},
   "outputs": [],
   "source": [
    "try:\n",
    "    file = open(\"test.txt\", \"r\")\n",
    "    data = file.read()\n",
    "except FileNotFoundError as e:\n",
    "    print(f\"FileNotFoundError occurred: {e}\")\n",
    "finally:\n",
    "    file.close()\n",
    "    print(\"File has been closed.\")"
   ]
  },
  {
   "cell_type": "markdown",
   "metadata": {},
   "source": [
    "### 多層異常處理\n",
    "\n",
    "異常處理可以有多層嵌套的 `try...except`，以便對不同的異常進行分層處理。"
   ]
  },
  {
   "cell_type": "code",
   "execution_count": null,
   "metadata": {},
   "outputs": [],
   "source": [
    "try:\n",
    "    try:\n",
    "        x = int(\"foo\")  # 會引發 ValueError\n",
    "    except ValueError as e:\n",
    "        print(f\"Inner try caught ValueError: {e}\")\n",
    "        raise  # 將異常重新拋出\n",
    "except ValueError as e:\n",
    "    print(f\"Outer try caught ValueError: {e}\")"
   ]
  },
  {
   "cell_type": "markdown",
   "metadata": {},
   "source": [
    "##### try...except...else...finally\n",
    "\n",
    "`try...except...else...finally` 語句是 Python 中處理異常的完整結構，允許你在處理異常的同時控制程式的正常流和清理工作。下面是各部分的詳細說明和示例："
   ]
  },
  {
   "cell_type": "markdown",
   "metadata": {},
   "source": [
    "### 基本語法"
   ]
  },
  {
   "cell_type": "code",
   "execution_count": null,
   "metadata": {},
   "outputs": [],
   "source": [
    "try:\n",
    "    # 可能會引發異常的代碼\n",
    "    pass\n",
    "except ExceptionType1 as e:\n",
    "    # 異常處理代碼\n",
    "    pass\n",
    "except ExceptionType2 as e:\n",
    "    # 另一種異常的處理代碼\n",
    "    pass\n",
    "else:\n",
    "    # 如果沒有異常，則執行此區塊\n",
    "    pass\n",
    "finally:\n",
    "    # 無論是否有異常，這個區塊都會執行\n",
    "    pass"
   ]
  },
  {
   "cell_type": "markdown",
   "metadata": {},
   "source": [
    "### 說明\n",
    "\n",
    "1. **`try` 區塊**: 包含可能會引發異常的代碼。如果這部分代碼引發了異常，Python 會停止執行 `try` 區塊中剩餘的代碼，並轉到相應的 `except` 區塊。\n",
    "\n",
    "2. **`except` 區塊**: 捕捉並處理特定的異常。如果 `try` 區塊中的代碼引發了異常，Python 會尋找匹配的 `except` 區塊來處理這個異常。可以有多個 `except` 區塊來處理不同類型的異常。\n",
    "\n",
    "3. **`else` 區塊**: 如果 `try` 區塊中的代碼沒有引發異常，`else` 區塊中的代碼會執行。`else` 區塊通常用來放置在 `try` 區塊成功執行時需要執行的代碼。\n",
    "\n",
    "4. **`finally` 區塊**: 這部分代碼無論是否引發異常都會執行。通常用於執行清理操作，如關閉文件或釋放資源。即使在 `except` 區塊中有 `return` 語句，`finally` 區塊的代碼仍然會被執行。\n",
    "\n",
    "### 示例"
   ]
  },
  {
   "cell_type": "code",
   "execution_count": null,
   "metadata": {},
   "outputs": [],
   "source": [
    "try:\n",
    "    # 嘗試打開文件並讀取內容\n",
    "    file = open(\"example.txt\", \"r\")\n",
    "    data = file.read()\n",
    "except FileNotFoundError as e:\n",
    "    # 如果文件未找到，處理異常\n",
    "    print(f\"FileNotFoundError occurred: {e}\")\n",
    "except IOError as e:\n",
    "    # 處理其他輸入輸出異常\n",
    "    print(f\"IOError occurred: {e}\")\n",
    "else:\n",
    "    # 如果沒有引發異常，則處理讀取到的數據\n",
    "    print(\"File read successfully.\")\n",
    "    print(data)\n",
    "finally:\n",
    "    # 無論如何，關閉文件\n",
    "    try:\n",
    "        file.close()\n",
    "    except NameError:\n",
    "        # 如果文件對象未被創建，處理此情況\n",
    "        print(\"File was never opened, no need to close.\")\n",
    "    print(\"Cleaning up.\")"
   ]
  },
  {
   "cell_type": "markdown",
   "metadata": {},
   "source": [
    "## 解釋\n",
    "\n",
    "- **`try` 區塊**: 嘗試打開名為 `\"example.txt\"` 的文件並讀取內容。如果文件不存在或讀取過程中出現錯誤，則會引發異常。\n",
    "- **`except` 區塊**: 捕捉 `FileNotFoundError` 和 `IOError`，分別處理文件未找到和其他輸入輸出錯誤。\n",
    "- **`else` 區塊**: 如果文件成功讀取，則會輸出文件內容。\n",
    "- **`finally` 區塊**: 無論是否引發異常，都會執行，確保文件被關閉。如果文件對象未被創建（即引發異常），則處理此情況，防止在關閉文件時出現錯誤。\n"
   ]
  }
 ],
 "metadata": {
  "kernelspec": {
   "display_name": "py39",
   "language": "python",
   "name": "python3"
  },
  "language_info": {
   "codemirror_mode": {
    "name": "ipython",
    "version": 3
   },
   "file_extension": ".py",
   "mimetype": "text/x-python",
   "name": "python",
   "nbconvert_exporter": "python",
   "pygments_lexer": "ipython3",
   "version": "3.9.19"
  }
 },
 "nbformat": 4,
 "nbformat_minor": 2
}
