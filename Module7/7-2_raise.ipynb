{
 "cells": [
  {
   "cell_type": "markdown",
   "metadata": {},
   "source": [
    "在 Python 中，自訂異常處理可以通過創建自定義的異常類來實現。自訂異常類通常用來表示應用程序中特定的錯誤情況，使異常處理更加具體和清晰。\n",
    "\n",
    "### 自訂異常類\n",
    "\n",
    "自訂異常類應繼承自 Python 的內建 `Exception` 類或其子類。你可以擴展 `Exception` 類來創建自訂異常，並且可以添加額外的屬性或方法來提供更多的錯誤信息。\n",
    "\n",
    "#### 自訂異常類範例"
   ]
  },
  {
   "cell_type": "code",
   "execution_count": null,
   "metadata": {},
   "outputs": [],
   "source": [
    "class CustomError(Exception):\n",
    "    \"\"\"自訂異常類的範例\"\"\"\n",
    "    def __init__(self, message, code=None):\n",
    "        super().__init__(message)\n",
    "        self.code = code\n",
    "\n",
    "    def __str__(self):\n",
    "        return f\"{self.args[0]} (Error Code: {self.code})\""
   ]
  },
  {
   "cell_type": "markdown",
   "metadata": {},
   "source": [
    "在這個例子中，我們創建了一個名為 `CustomError` 的自訂異常類，並添加了一個 `code` 屬性來存儲錯誤代碼。`__str__` 方法用來定義異常對象被轉換為字串時的顯示格式。\n",
    "\n",
    "### 使用自訂異常\n",
    "\n",
    "在使用自訂異常類時，可以通過 `raise` 陳述來引發這些異常。\n",
    "\n",
    "#### 引發自訂異常範例"
   ]
  },
  {
   "cell_type": "code",
   "execution_count": null,
   "metadata": {},
   "outputs": [],
   "source": [
    "def process_data(data):\n",
    "    if not isinstance(data, int):\n",
    "        raise CustomError(\"Invalid data type\", code=1001)\n",
    "    if data < 0:\n",
    "        raise CustomError(\"Negative value not allowed\", code=1002)\n",
    "    return data * 2\n",
    "\n",
    "try:\n",
    "    result = process_data(\"string\")  # 這會引發 CustomError\n",
    "except CustomError as e:\n",
    "    print(f\"An error occurred: {e}\")"
   ]
  },
  {
   "cell_type": "markdown",
   "metadata": {},
   "source": [
    "在這個例子中，`process_data` 函數會檢查 `data` 參數是否是整數，並且是否為非負數。如果不符合條件，就會引發 `CustomError`。`try...except` 塊捕捉到這個異常後，會輸出異常的描述信息。\n",
    "\n",
    "### 自訂異常類別的擴展\n",
    "\n",
    "你可以擴展自訂異常類別來處理更複雜的錯誤情況，例如添加更多的屬性、方法，或覆寫其他方法來提供自定義行為。\n",
    "\n",
    "#### 擴展自訂異常類別範例"
   ]
  },
  {
   "cell_type": "code",
   "execution_count": null,
   "metadata": {},
   "outputs": [],
   "source": [
    "class ExtendedError(Exception):\n",
    "    \"\"\"擴展異常類，加入詳細信息\"\"\"\n",
    "    def __init__(self, message, error_details):\n",
    "        super().__init__(message)\n",
    "        self.error_details = error_details\n",
    "\n",
    "    def log_error(self):\n",
    "        # 假設這是一個記錄錯誤的函數\n",
    "        print(f\"Logging error: {self.args[0]} with details: {self.error_details}\")\n",
    "\n",
    "    def __str__(self):\n",
    "        return f\"{self.args[0]} - Details: {self.error_details}\"\n",
    "\n",
    "# 使用自訂異常類\n",
    "def process_data(value):\n",
    "    if not isinstance(value, int):\n",
    "        raise ExtendedError(\"Value must be an integer\", error_details=\"Received: \" + str(value))\n",
    "    if value < 0:\n",
    "        raise ExtendedError(\"Value must be non-negative\", error_details=\"Received: \" + str(value))\n",
    "    return value ** 2\n",
    "\n",
    "try:\n",
    "    result = process_data(-10)\n",
    "except ExtendedError as e:\n",
    "    e.log_error()\n",
    "    print(f\"An error occurred: {e}\")"
   ]
  },
  {
   "cell_type": "markdown",
   "metadata": {},
   "source": [
    "### `raise` 陳述\n",
    "\n",
    "`raise` 陳述用於引發異常，語法如下："
   ]
  },
  {
   "cell_type": "code",
   "execution_count": null,
   "metadata": {},
   "outputs": [],
   "source": [
    "raise ExceptionType(\"Optional message\")"
   ]
  },
  {
   "cell_type": "markdown",
   "metadata": {},
   "source": [
    "可以引發內建異常類，也可以引發自訂異常類。`raise` 陳述可以在 `try` 區塊中引發異常，或在自訂異常類中引發異常。\n",
    "\n",
    "#### 引發異常範例"
   ]
  },
  {
   "cell_type": "code",
   "execution_count": null,
   "metadata": {},
   "outputs": [],
   "source": [
    "def divide(a, b):\n",
    "    if b == 0:\n",
    "        raise ZeroDivisionError(\"Cannot divide by zero\")\n",
    "    return a / b\n",
    "\n",
    "try:\n",
    "    result = divide(10, 0)  # 這會引發 ZeroDivisionError\n",
    "except ZeroDivisionError as e:\n",
    "    print(f\"An error occurred: {e}\")"
   ]
  },
  {
   "cell_type": "markdown",
   "metadata": {},
   "source": [
    "這個範例中，`divide` 函數在除數為零時會引發 `ZeroDivisionError`。\n",
    "\n",
    "自訂異常處理能夠讓你根據應用程序的需要設計更具體的錯誤處理機制，並且能夠提供更清晰的錯誤信息。如果有更多問題或需要進一步的幫助，隨時告訴我！"
   ]
  }
 ],
 "metadata": {
  "kernelspec": {
   "display_name": "py39",
   "language": "python",
   "name": "python3"
  },
  "language_info": {
   "codemirror_mode": {
    "name": "ipython",
    "version": 3
   },
   "file_extension": ".py",
   "mimetype": "text/x-python",
   "name": "python",
   "nbconvert_exporter": "python",
   "pygments_lexer": "ipython3",
   "version": "3.9.19"
  }
 },
 "nbformat": 4,
 "nbformat_minor": 2
}
