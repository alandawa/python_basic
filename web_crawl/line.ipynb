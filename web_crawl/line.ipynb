{
 "cells": [
  {
   "cell_type": "code",
   "execution_count": 5,
   "metadata": {},
   "outputs": [],
   "source": [
    "import requests\n",
    "from bs4 import BeautifulSoup as bs\n",
    "\n",
    "url = 'https://store.line.me/stickershop/product/23209716/zh-Hant'\n",
    "response = requests.get(url)\n",
    "\n",
    "\n",
    "soup = bs(response.text, 'lxml')\n"
   ]
  },
  {
   "cell_type": "code",
   "execution_count": 29,
   "metadata": {},
   "outputs": [],
   "source": [
    "import os\n",
    "\n",
    "file_path = './line_stickers'\n",
    "if not os.path.exists(file_path):\n",
    "    os.mkdir(file_path)"
   ]
  },
  {
   "cell_type": "code",
   "execution_count": 31,
   "metadata": {},
   "outputs": [],
   "source": [
    "import json\n",
    "import requests\n",
    "from bs4 import BeautifulSoup as bs\n",
    "\n",
    "url = 'https://store.line.me/stickershop/product/23209716/zh-Hant'\n",
    "response = requests.get(url)\n",
    "\n",
    "soup = bs(response.text, 'lxml')\n",
    "li_elements = soup.select('ul.mdCMN09Ul.FnStickerList > li.mdCMN09Li.FnStickerPreviewItem')\n",
    "li_elements = soup.find_all('li', 'mdCMN09Li FnStickerPreviewItem static-sticker')\n",
    "\n",
    "sticker_name = soup.find('p', 'mdCMN38Item01Ttl').text\n",
    "\n",
    "# print(len(li_elements))\n",
    "\n",
    "# 如果不存在 sticker_name 資料夾 就執行建立\n",
    "file_path = f'./{sticker_name}'\n",
    "if not os.path.exists(file_path):\n",
    "    os.mkdir(file_path)\n",
    "\n",
    "n = 0\n",
    "for li_element in li_elements:\n",
    "    n += 1\n",
    "\n",
    "    data = li_element['data-preview']\n",
    "    # 將 data-preview str轉成dict物件\n",
    "    data_dict = json.loads(data)\n",
    "\n",
    "    staic_url = data_dict['staticUrl']\n",
    "\n",
    "    # 用 static_url 取得圖片相關資訊 \n",
    "    response = requests.get(staic_url)\n",
    "               # 儲存路徑\n",
    "    with open(f'{file_path}/{sticker_name}-{n}.png', 'wb') as f:\n",
    "        # 寫入 binary 檔案\n",
    "        f.write(response.content)\n",
    "\n"
   ]
  },
  {
   "cell_type": "code",
   "execution_count": 27,
   "metadata": {},
   "outputs": [
    {
     "name": "stdout",
     "output_type": "stream",
     "text": [
      "公主病莎莉\n"
     ]
    }
   ],
   "source": [
    "sticker_name = soup.find('p', 'mdCMN38Item01Ttl')\n",
    "print(sticker_name.text)"
   ]
  },
  {
   "cell_type": "code",
   "execution_count": null,
   "metadata": {},
   "outputs": [],
   "source": []
  }
 ],
 "metadata": {
  "kernelspec": {
   "display_name": "Python 3",
   "language": "python",
   "name": "python3"
  },
  "language_info": {
   "codemirror_mode": {
    "name": "ipython",
    "version": 3
   },
   "file_extension": ".py",
   "mimetype": "text/x-python",
   "name": "python",
   "nbconvert_exporter": "python",
   "pygments_lexer": "ipython3",
   "version": "3.12.3"
  }
 },
 "nbformat": 4,
 "nbformat_minor": 2
}
