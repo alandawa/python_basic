{
 "cells": [
  {
   "cell_type": "markdown",
   "metadata": {},
   "source": [
    "# f-string (又稱作 formatted string literals, version >= 3.6)\n",
    "`f-string`（格式化字串文字）是 Python 3.6 及以上版本引入的一種強大且簡便的字串格式化方法。它可以讓你在字串中嵌入變數或表達式，並且提供了多種對齊和格式化選項。以下是一些使用 `f-string` 進行對齊和格式化的範例："
   ]
  },
  {
   "cell_type": "markdown",
   "metadata": {},
   "source": [
    "### 基本用法"
   ]
  },
  {
   "cell_type": "code",
   "execution_count": 1,
   "metadata": {},
   "outputs": [
    {
     "name": "stdout",
     "output_type": "stream",
     "text": [
      "Name: Alice, Age: 30\n"
     ]
    }
   ],
   "source": [
    "name = \"Alice\"\n",
    "age = 30\n",
    "\n",
    "# 基本格式化\n",
    "print(f\"Name: {name}, Age: {age}\")"
   ]
  },
  {
   "cell_type": "markdown",
   "metadata": {},
   "source": [
    "### 靠左對齊、靠右對齊"
   ]
  },
  {
   "cell_type": "code",
   "execution_count": 3,
   "metadata": {},
   "outputs": [
    {
     "name": "stdout",
     "output_type": "stream",
     "text": [
      "name: [Alice     ], age [             30]\n"
     ]
    }
   ],
   "source": [
    "# 靠左對齊、靠右對齊\n",
    "result = f'name: [{name:<10}], age [{age:>15}]'\n",
    "print(result)\n"
   ]
  },
  {
   "cell_type": "markdown",
   "metadata": {},
   "source": [
    "### 靠左對齊、靠右對齊，字數不足，補「ㄏ」"
   ]
  },
  {
   "cell_type": "code",
   "execution_count": 4,
   "metadata": {},
   "outputs": [
    {
     "name": "stdout",
     "output_type": "stream",
     "text": [
      "name: [AliceXXXXX], age [XXXXXXXX30]\n"
     ]
    }
   ],
   "source": [
    "# 靠左對齊、靠右對齊，字數不足，補「ㄏ」\n",
    "# (沒寫補什麼，預設空格)\n",
    "result = f'name: [{name:X<10}], age [{age:X>10}]'\n",
    "print(result)"
   ]
  },
  {
   "cell_type": "markdown",
   "metadata": {},
   "source": [
    "### 置中對齊\n",
    "\n",
    "使用 `:^` 進行置中對齊。"
   ]
  },
  {
   "cell_type": "code",
   "execution_count": 5,
   "metadata": {},
   "outputs": [
    {
     "name": "stdout",
     "output_type": "stream",
     "text": [
      "name: [  Alice   ], age [    30    ]\n",
      "name: [ Alice  ], age [ 30 ]\n"
     ]
    }
   ],
   "source": [
    "# 置中對齊\n",
    "result = f'name: [{name:^10}], age [{age:^10}]'\n",
    "result2 = f'name: [{name:^8}], age [{age:^4}]'\n",
    "print(result)\n",
    "print(result2)"
   ]
  },
  {
   "cell_type": "markdown",
   "metadata": {},
   "source": [
    "### 指定文字長度上限\n",
    "\n",
    "可以使用 `.N` 來指定字串的長度上限，`N` 是你希望的最大長度。"
   ]
  },
  {
   "cell_type": "code",
   "execution_count": 6,
   "metadata": {},
   "outputs": [
    {
     "name": "stdout",
     "output_type": "stream",
     "text": [
      "Alice 30\n",
      "Ali 30\n",
      "小數點2位: 3.143\n"
     ]
    }
   ],
   "source": [
    "name = \"AliceBob\"\n",
    "age = 30\n",
    "\n",
    "# 指定文字長度上限，最多 5 個字元\n",
    "print(f\"{name:.5} {age}\")\n",
    "\n",
    "# 指定文字長度上限，最多 3 個字元\n",
    "print(f\"{name:.3} {age}\")\n",
    "\n",
    "float_num = 3.142567890\n",
    "print(f'小數點2位: {float_num:.3f}')\n"
   ]
  },
  {
   "cell_type": "markdown",
   "metadata": {},
   "source": [
    "### 換行"
   ]
  },
  {
   "cell_type": "code",
   "execution_count": 7,
   "metadata": {},
   "outputs": [
    {
     "name": "stdout",
     "output_type": "stream",
     "text": [
      "換\n",
      "行\n"
     ]
    }
   ],
   "source": [
    "string01 = '換\\n行'\n",
    "print(string01)\n"
   ]
  }
 ],
 "metadata": {
  "kernelspec": {
   "display_name": "Python 3",
   "language": "python",
   "name": "python3"
  },
  "language_info": {
   "codemirror_mode": {
    "name": "ipython",
    "version": 3
   },
   "file_extension": ".py",
   "mimetype": "text/x-python",
   "name": "python",
   "nbconvert_exporter": "python",
   "pygments_lexer": "ipython3",
   "version": "3.9.19"
  }
 },
 "nbformat": 4,
 "nbformat_minor": 2
}
