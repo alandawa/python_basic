{
 "cells": [
  {
   "cell_type": "markdown",
   "metadata": {},
   "source": [
    "### dict method\n",
    "\n",
    "在 Python 中，`dict`（字典）是一種可變的數據結構，用來儲存鍵值對。以下是一些常用的 `dict` 方法和操作範例，包括初始化字典、修改、刪除、取得特定值等。"
   ]
  },
  {
   "cell_type": "markdown",
   "metadata": {},
   "source": [
    "### 初始化 `dict`"
   ]
  },
  {
   "cell_type": "code",
   "execution_count": 1,
   "metadata": {},
   "outputs": [],
   "source": [
    "# 使用大括號直接初始化\n",
    "my_dict = {\n",
    "    'apple': 100,\n",
    "    'orange': 50,\n",
    "    'tomato': 30\n",
    "}\n",
    "\n",
    "# 使用 dict() 函數來初始化\n",
    "my_dict = dict(apple=100, orange=50, tomato=30)"
   ]
  },
  {
   "cell_type": "markdown",
   "metadata": {},
   "source": [
    "### 印出蘋果的價格\n",
    "\n",
    "使用鍵來訪問 `dict` 中的值。"
   ]
  },
  {
   "cell_type": "code",
   "execution_count": 2,
   "metadata": {},
   "outputs": [
    {
     "name": "stdout",
     "output_type": "stream",
     "text": [
      "蘋果的價格: 100\n"
     ]
    }
   ],
   "source": [
    "# 假設字典已經定義\n",
    "my_dict = {\n",
    "    'apple': 100,\n",
    "    'orange': 50,\n",
    "    'tomato': 30\n",
    "}\n",
    "\n",
    "# 印出蘋果的價格\n",
    "print(\"蘋果的價格:\", my_dict['apple'])  # 輸出: 蘋果的價格: 100"
   ]
  },
  {
   "cell_type": "markdown",
   "metadata": {},
   "source": [
    "### 修改橘子的價格\n",
    "使用鍵來更新 `dict` 中的值。"
   ]
  },
  {
   "cell_type": "code",
   "execution_count": 3,
   "metadata": {},
   "outputs": [
    {
     "name": "stdout",
     "output_type": "stream",
     "text": [
      "修改後的字典: {'apple': 100, 'orange': 60, 'tomato': 30}\n"
     ]
    }
   ],
   "source": [
    "# 假設字典已經定義\n",
    "my_dict = {\n",
    "    'apple': 100,\n",
    "    'orange': 50,\n",
    "    'tomato': 30\n",
    "}\n",
    "\n",
    "# 修改橘子的價格\n",
    "my_dict['orange'] = 60\n",
    "print(\"修改後的字典:\", my_dict)  # 輸出: 修改後的字典: {'apple': 100, 'orange': 60, 'tomato': 30}"
   ]
  },
  {
   "cell_type": "markdown",
   "metadata": {},
   "source": [
    "### 刪除番茄\n",
    "\n",
    "使用 `del` 關鍵字或 `pop()` 方法來刪除 `dict` 中的鍵值對。"
   ]
  },
  {
   "cell_type": "code",
   "execution_count": 4,
   "metadata": {},
   "outputs": [
    {
     "name": "stdout",
     "output_type": "stream",
     "text": [
      "刪除後的字典: {'apple': 100, 'orange': 50}\n"
     ]
    }
   ],
   "source": [
    "# 假設字典已經定義\n",
    "my_dict = {\n",
    "    'apple': 100,\n",
    "    'orange': 50,\n",
    "    'tomato': 30\n",
    "}\n",
    "\n",
    "# 刪除番茄\n",
    "del my_dict['tomato']\n",
    "print(\"刪除後的字典:\", my_dict)  # 輸出: 刪除後的字典: {'apple': 100, 'orange': 50}"
   ]
  },
  {
   "cell_type": "markdown",
   "metadata": {},
   "source": [
    "### 建立一個 value 含有 `dict` 的 `dict`\n",
    "\n",
    "字典的值可以是另一個字典。"
   ]
  },
  {
   "cell_type": "code",
   "execution_count": 5,
   "metadata": {},
   "outputs": [
    {
     "name": "stdout",
     "output_type": "stream",
     "text": [
      "包含字典的字典: {'person1': {'name': 'Alice', 'age': 30}, 'person2': {'name': 'Bob', 'age': 25}}\n"
     ]
    }
   ],
   "source": [
    "# 建立一個包含字典的字典\n",
    "nested_dict = {\n",
    "    'person1': {'name': 'Alice', 'age': 30},\n",
    "    'person2': {'name': 'Bob', 'age': 25}\n",
    "}\n",
    "print(\"包含字典的字典:\", nested_dict)  \n",
    "# 輸出: 包含字典的字典: {'person1': {'name': 'Alice', 'age': 30}, 'person2': {'name': 'Bob', 'age': 25}}"
   ]
  },
  {
   "cell_type": "markdown",
   "metadata": {},
   "source": [
    "\n",
    "### 取得 nickname\n",
    "\n",
    "如果 `dict` 中有一個鍵 `nickname`，可以使用 `get()` 方法或直接通過鍵來獲取它的值。"
   ]
  },
  {
   "cell_type": "code",
   "execution_count": 6,
   "metadata": {},
   "outputs": [
    {
     "name": "stdout",
     "output_type": "stream",
     "text": [
      "Nickname: Ace\n"
     ]
    }
   ],
   "source": [
    "# 假設字典已經定義\n",
    "my_dict = {\n",
    "    'nickname': 'Ace',\n",
    "    'phone_number': '123-456-7890'\n",
    "}\n",
    "\n",
    "# 取得 nickname\n",
    "nickname = my_dict['nickname']\n",
    "print(\"Nickname:\", nickname)  # 輸出: Nickname: Ace"
   ]
  },
  {
   "cell_type": "markdown",
   "metadata": {},
   "source": [
    "### 取得所有 `phone_number`\n",
    "\n",
    "如果字典中有一個 `phone_number` 鍵，並且字典的值中包含這個鍵，可以使用 `values()` 方法來取得所有的電話號碼。"
   ]
  },
  {
   "cell_type": "code",
   "execution_count": 7,
   "metadata": {},
   "outputs": [
    {
     "name": "stdout",
     "output_type": "stream",
     "text": [
      "所有 phone_number: ['123-456-7890', '098-765-4321', '555-555-5555']\n"
     ]
    }
   ],
   "source": [
    "# 假設字典已經定義\n",
    "contacts = {\n",
    "    'John': {'phone_number': '123-456-7890'},\n",
    "    'Jane': {'phone_number': '098-765-4321'},\n",
    "    'Doe': {'phone_number': '555-555-5555'}\n",
    "}\n",
    "\n",
    "# 取得所有的 phone_number\n",
    "phone_numbers = [contact['phone_number'] for contact in contacts.values()]\n",
    "print(\"所有 phone_number:\", phone_numbers)\n",
    "# 輸出: 所有 phone_number: ['123-456-7890', '098-765-4321', '555-555-5555']"
   ]
  }
 ],
 "metadata": {
  "kernelspec": {
   "display_name": "Python 3",
   "language": "python",
   "name": "python3"
  },
  "language_info": {
   "codemirror_mode": {
    "name": "ipython",
    "version": 3
   },
   "file_extension": ".py",
   "mimetype": "text/x-python",
   "name": "python",
   "nbconvert_exporter": "python",
   "pygments_lexer": "ipython3",
   "version": "3.9.19"
  }
 },
 "nbformat": 4,
 "nbformat_minor": 2
}
