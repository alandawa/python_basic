{
 "cells": [
  {
   "cell_type": "markdown",
   "metadata": {},
   "source": [
    "### `tuple` 初始化\n",
    "\n",
    "`tuple` 是 Python 中的一種不可變的序列類型，用來儲存多個值。與 `list` 不同，`tuple` 是不可變的，這意味著你不能修改 `tuple` 中的元素。以下是關於 `tuple` 的一些基本操作和使用範例："
   ]
  },
  {
   "cell_type": "markdown",
   "metadata": {},
   "source": [
    "#### 第一種初始化方式\n",
    "\n",
    "使用圓括號 `()` 定義 `tuple`，可以包含多個元素，元素之間用逗號 `,` 隔開。"
   ]
  },
  {
   "cell_type": "code",
   "execution_count": 10,
   "metadata": {},
   "outputs": [
    {
     "name": "stdout",
     "output_type": "stream",
     "text": [
      "(1, 2, 3, 4, 5)\n"
     ]
    }
   ],
   "source": [
    "# 初始化一個包含多個元素的 tuple\n",
    "my_tuple = (1, 2, 3, 4, 5)\n",
    "print(my_tuple)  # 輸出: (1, 2, 3, 4, 5)"
   ]
  },
  {
   "cell_type": "markdown",
   "metadata": {},
   "source": [
    "#### 第二種初始化方式\n",
    "\n",
    "如果 `tuple` 只有一個元素，需要在元素後面加上一個逗號 `,` 來區分。"
   ]
  },
  {
   "cell_type": "code",
   "execution_count": 11,
   "metadata": {},
   "outputs": [
    {
     "name": "stdout",
     "output_type": "stream",
     "text": [
      "(1,)\n"
     ]
    }
   ],
   "source": [
    "# 初始化一個只有一個元素的 tuple\n",
    "single_element_tuple = (1,)\n",
    "print(single_element_tuple)  # 輸出: (1,)"
   ]
  },
  {
   "cell_type": "markdown",
   "metadata": {},
   "source": [
    "\n",
    "### 透過指定索引輸出值\n",
    "\n",
    "使用索引來訪問 `tuple` 中的元素，索引從 0 開始。"
   ]
  },
  {
   "cell_type": "code",
   "execution_count": 12,
   "metadata": {},
   "outputs": [
    {
     "name": "stdout",
     "output_type": "stream",
     "text": [
      "30\n"
     ]
    }
   ],
   "source": [
    "my_tuple = (10, 20, 30, 40, 50)\n",
    "\n",
    "# 訪問索引位置 2 的元素\n",
    "print(my_tuple[2])  # 輸出: 30"
   ]
  },
  {
   "cell_type": "markdown",
   "metadata": {},
   "source": [
    "### 複數變數修改值\n",
    "\n",
    "`tuple` 本身是不可變的，因此無法直接修改其中的元素。如果需要修改，可以重新創建一個新的 `tuple`。"
   ]
  },
  {
   "cell_type": "code",
   "execution_count": 13,
   "metadata": {},
   "outputs": [
    {
     "name": "stdout",
     "output_type": "stream",
     "text": [
      "(10, 99, 30, 40, 50)\n"
     ]
    }
   ],
   "source": [
    "my_tuple = (10, 20, 30, 40, 50)\n",
    "\n",
    "# 嘗試修改元素會引發錯誤\n",
    "# my_tuple[1] = 99  # TypeError: 'tuple' object does not support item assignment\n",
    "\n",
    "# 重新創建一個新的 tuple 來達到修改的效果\n",
    "modified_tuple = my_tuple[:1] + (99,) + my_tuple[2:]\n",
    "print(modified_tuple)  # 輸出: (10, 99, 30, 40, 50)"
   ]
  },
  {
   "cell_type": "markdown",
   "metadata": {},
   "source": [
    "### `tuple` 不可以修改指定索引的值\n",
    "\n",
    "如上所述，`tuple` 是不可變的，因此無法直接修改某個索引位置的值。如果需要修改，你必須重新創建 `tuple`。\n",
    "\n",
    "### `( )` 可以修改指定索引的值\n",
    "\n",
    "這裡的 `( )` 是指你可以使用圓括號來創建一個新的 `tuple`，其中包含了你需要的變更。"
   ]
  },
  {
   "cell_type": "code",
   "execution_count": 14,
   "metadata": {},
   "outputs": [
    {
     "name": "stdout",
     "output_type": "stream",
     "text": [
      "(0, 2, 3)\n"
     ]
    }
   ],
   "source": [
    "# 原始 tuple\n",
    "original_tuple = (1, 2, 3)\n",
    "\n",
    "# 通過重新創建來「修改」元素\n",
    "new_tuple = (0,) + original_tuple[1:]\n",
    "print(new_tuple)  # 輸出: (0, 2, 3)"
   ]
  },
  {
   "cell_type": "markdown",
   "metadata": {},
   "source": [
    "### 用 `for` 迴圈逐一輸出資料\n",
    "\n",
    "使用 `for` 迴圈來遍歷 `tuple` 中的每個元素。"
   ]
  },
  {
   "cell_type": "code",
   "execution_count": 15,
   "metadata": {},
   "outputs": [
    {
     "name": "stdout",
     "output_type": "stream",
     "text": [
      "a\n",
      "b\n",
      "c\n",
      "d\n"
     ]
    }
   ],
   "source": [
    "my_tuple = ('a', 'b', 'c', 'd')\n",
    "\n",
    "for item in my_tuple:\n",
    "    print(item)\n",
    "# 輸出:\n",
    "# a\n",
    "# b\n",
    "# c\n",
    "# d"
   ]
  },
  {
   "cell_type": "markdown",
   "metadata": {},
   "source": [
    "### 用 `len` 計算 `tuple` 資料個數\n",
    "\n",
    "`len()` 函數可以用來計算 `tuple` 中元素的個數。"
   ]
  },
  {
   "cell_type": "code",
   "execution_count": 16,
   "metadata": {},
   "outputs": [
    {
     "name": "stdout",
     "output_type": "stream",
     "text": [
      "5\n"
     ]
    }
   ],
   "source": [
    "\n",
    "my_tuple = (10, 20, 30, 40, 50)\n",
    "\n",
    "# 計算 tuple 中的元素個數\n",
    "print(len(my_tuple))  # 輸出: 5"
   ]
  }
 ],
 "metadata": {
  "kernelspec": {
   "display_name": "Python 3",
   "language": "python",
   "name": "python3"
  },
  "language_info": {
   "codemirror_mode": {
    "name": "ipython",
    "version": 3
   },
   "file_extension": ".py",
   "mimetype": "text/x-python",
   "name": "python",
   "nbconvert_exporter": "python",
   "pygments_lexer": "ipython3",
   "version": "3.9.19"
  }
 },
 "nbformat": 4,
 "nbformat_minor": 2
}
