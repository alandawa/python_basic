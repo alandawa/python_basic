{
 "cells": [
  {
   "cell_type": "markdown",
   "metadata": {},
   "source": [
    "### list method\n",
    "\n",
    "在 Python 中，`list` 是一種可變的序列，用來儲存多個元素。以下是 `list` 的一些常用方法和操作，包括初始化、增加、修改、刪除元素等。"
   ]
  },
  {
   "cell_type": "markdown",
   "metadata": {},
   "source": [
    "### 初始化一個 `list`"
   ]
  },
  {
   "cell_type": "code",
   "execution_count": 1,
   "metadata": {},
   "outputs": [],
   "source": [
    "# 初始化一個空的 list\n",
    "my_list = []\n",
    "\n",
    "# 初始化一個包含數個元素的 list\n",
    "my_list = [1, 2, 3, 4, 5]\n"
   ]
  },
  {
   "cell_type": "markdown",
   "metadata": {},
   "source": [
    "### 新增元素在 `list` 尾端"
   ]
  },
  {
   "cell_type": "code",
   "execution_count": 2,
   "metadata": {},
   "outputs": [
    {
     "name": "stdout",
     "output_type": "stream",
     "text": [
      "[1, 2, 3, 4]\n"
     ]
    }
   ],
   "source": [
    "# 新增元素在 list 尾端\n",
    "my_list = [1, 2, 3]\n",
    "my_list.append(4)  # 新增元素 4 在 list 尾端\n",
    "print(my_list)     # 輸出: [1, 2, 3, 4]\n"
   ]
  },
  {
   "cell_type": "markdown",
   "metadata": {},
   "source": [
    "### 修改索引位置的元素\n",
    "\n",
    "\n",
    "通過索引直接修改 `list` 中的元素。"
   ]
  },
  {
   "cell_type": "code",
   "execution_count": 3,
   "metadata": {},
   "outputs": [
    {
     "name": "stdout",
     "output_type": "stream",
     "text": [
      "[1, 2, 99, 4]\n"
     ]
    }
   ],
   "source": [
    "# 修改索引位置的元素\n",
    "\n",
    "my_list = [1, 2, 3, 4]\n",
    "my_list[2] = 99  # 將索引 2 的元素修改為 99\n",
    "print(my_list)   # 輸出: [1, 2, 99, 4]\n",
    "\n"
   ]
  },
  {
   "cell_type": "markdown",
   "metadata": {},
   "source": [
    "\n",
    "### 刪除索引位置的元素\n",
    "\n",
    "使用 `del` 關鍵字或 `pop()` 方法來刪除指定索引的元素。"
   ]
  },
  {
   "cell_type": "code",
   "execution_count": 4,
   "metadata": {},
   "outputs": [
    {
     "name": "stdout",
     "output_type": "stream",
     "text": [
      "[1, 3, 4]\n"
     ]
    }
   ],
   "source": [
    "# 刪除索引位置的元素\n",
    "my_list = [1, 2, 3, 4]\n",
    "del my_list[1]   # 刪除索引 1 的元素\n",
    "print(my_list)   # 輸出: [1, 3, 4]\n"
   ]
  },
  {
   "cell_type": "markdown",
   "metadata": {},
   "source": [
    "### 新增元素 9 在指定索引 1，其餘元素往後移\n",
    "\n",
    "使用 `insert()` 方法可以在指定索引位置新增元素。"
   ]
  },
  {
   "cell_type": "code",
   "execution_count": 5,
   "metadata": {},
   "outputs": [
    {
     "name": "stdout",
     "output_type": "stream",
     "text": [
      "[1, 9, 2, 3, 4]\n"
     ]
    }
   ],
   "source": [
    "# 新增元素 9 在指定索引 1，其餘元素往後移\n",
    "my_list = [1, 2, 3, 4]\n",
    "my_list.insert(1, 9)  # 在索引 1 插入元素 9，其餘元素往後移\n",
    "print(my_list)        # 輸出: [1, 9, 2, 3, 4]\n"
   ]
  },
  {
   "cell_type": "markdown",
   "metadata": {},
   "source": [
    "\n",
    "### 移除指定的值\n",
    "\n",
    "使用 `remove()` 方法來移除 `list` 中的第一個指定值。如果該值不存在會引發 `ValueError`。"
   ]
  },
  {
   "cell_type": "code",
   "execution_count": 6,
   "metadata": {},
   "outputs": [
    {
     "name": "stdout",
     "output_type": "stream",
     "text": [
      "[1, 3, 4, 2]\n"
     ]
    }
   ],
   "source": [
    "# 移除指定的值\n",
    "my_list = [1, 2, 3, 4, 2]\n",
    "my_list.remove(2)   # 移除第一個值為 2 的元素\n",
    "print(my_list)     # 輸出: [1, 3, 4, 2]\n",
    "\n",
    "# 若值不在 list 中會引發錯誤\n",
    "# my_list.remove(99)  # ValueError: list.remove(x): x not in list\n"
   ]
  },
  {
   "cell_type": "markdown",
   "metadata": {},
   "source": [
    "### 計算 `list` 內的某個值共有幾個\n",
    "\n",
    "使用 `count()` 方法來計算 `list` 中某個值的出現次數。"
   ]
  },
  {
   "cell_type": "code",
   "execution_count": 7,
   "metadata": {},
   "outputs": [
    {
     "name": "stdout",
     "output_type": "stream",
     "text": [
      "3\n"
     ]
    }
   ],
   "source": [
    "# 計算 list 內的某個值 共有幾個\n",
    "\n",
    "my_list = [1, 2, 2, 3, 2, 4]\n",
    "count_of_two = my_list.count(2)  # 計算值 2 的出現次數\n",
    "print(count_of_two)  # 輸出: 3"
   ]
  }
 ],
 "metadata": {
  "kernelspec": {
   "display_name": "Python 3",
   "language": "python",
   "name": "python3"
  },
  "language_info": {
   "codemirror_mode": {
    "name": "ipython",
    "version": 3
   },
   "file_extension": ".py",
   "mimetype": "text/x-python",
   "name": "python",
   "nbconvert_exporter": "python",
   "pygments_lexer": "ipython3",
   "version": "3.9.19"
  }
 },
 "nbformat": 4,
 "nbformat_minor": 2
}
