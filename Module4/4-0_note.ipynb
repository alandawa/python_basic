{
 "cells": [
  {
   "cell_type": "markdown",
   "metadata": {},
   "source": [
    "### `note` \n",
    "\n",
    "以下是關於 Python 中不同型態的創建方式、是否可變以及是否有序的詳細資訊，包括如何加入、刪除、搜尋值："
   ]
  },
  {
   "cell_type": "markdown",
   "metadata": {},
   "source": [
    "\n",
    "\n",
    "| 型態  | string               | list                   | tuple                | set                    |\n",
    "|:---:  |:---------------------:|:-----------------------:|:---------------------:|:----------------------:|\n",
    "| 初始化 | `s = \"Hello\"`       | `lst = [1, 2, 3]`      | `t = (1, 2, 3)`       | `s = {1, 2, 3}`        |\n",
    "| 加入值 | 不可加值              | `lst.append(4)` 或 `lst.insert(1, 5)` | 不可加值               | `s.add(4)`             |\n",
    "| 刪除值 | 不可刪除              | `lst.remove(2)` 或 `del lst[1]` | 不可刪除               | `s.remove(2)` 或 `s.discard(2)` |\n",
    "| 搜尋值 | `'H' in s`           | `2 in lst`             | `2 in t`              | `2 in s`               |\n",
    "| 可不可變 | 不可變               | 可變                    | 不可變                | 可變                    |\n",
    "| 有序/無序 | 有序                 | 有序                    | 有序                  | 無序                    |\n",
    "\n",
    "### 詳細說明：\n",
    "\n",
    "1. **string (字串)**:\n",
    "   - **初始化**: 使用雙引號或單引號來創建字串。例如: `s = \"Hello\"`。\n",
    "   - **加入值**: 字串是不可變的，不能直接添加字符或子字串。如果需要修改，可以創建一個新的字串。例如，`s += \" World\"`。\n",
    "   - **刪除值**: 不能刪除字串中的字符。你可以用其他字串來替換或生成一個新的字串。\n",
    "   - **搜尋值**: 使用 `'H' in s` 來檢查字串中是否包含指定的字符或子字串。\n",
    "\n",
    "2. **list (列表)**:\n",
    "   - **初始化**: 使用方括號來創建列表。例如: `lst = [1, 2, 3]`。\n",
    "   - **加入值**: 使用 `lst.append(4)` 將元素添加到列表的末尾，或使用 `lst.insert(1, 5)` 在指定位置插入元素。\n",
    "   - **刪除值**: 使用 `lst.remove(2)` 刪除指定的元素，或使用 `del lst[1]` 刪除指定位置的元素。\n",
    "   - **搜尋值**: 使用 `2 in lst` 來檢查列表中是否包含指定的元素。\n",
    "\n",
    "3. **tuple (元組)**:\n",
    "   - **初始化**: 使用圓括號來創建元組。例如: `t = (1, 2, 3)`。\n",
    "   - **加入值**: 元組是不可變的，無法直接添加元素。若需修改元組，可以創建一個新的元組。\n",
    "   - **刪除值**: 不能刪除元組中的元素。可以創建一個新的元組來代替原元組。\n",
    "   - **搜尋值**: 使用 `2 in t` 來檢查元組中是否包含指定的元素。\n",
    "\n",
    "4. **set (集合)**:\n",
    "   - **初始化**: 使用大括號來創建集合。例如: `s = {1, 2, 3}`。\n",
    "   - **加入值**: 使用 `s.add(4)` 將元素添加到集合中。\n",
    "   - **刪除值**: 使用 `s.remove(2)` 刪除指定的元素。如果元素可能不存在，使用 `s.discard(2)` 可以避免引發錯誤。\n",
    "   - **搜尋值**: 使用 `2 in s` 來檢查集合中是否包含指定的元素。"
   ]
  },
  {
   "cell_type": "code",
   "execution_count": 2,
   "metadata": {},
   "outputs": [
    {
     "name": "stdout",
     "output_type": "stream",
     "text": [
      "Index: 26\n",
      "Value: 729\n",
      "Value at index: 729\n",
      "Element at index 26: 729\n"
     ]
    }
   ],
   "source": [
    "# 初始化列表，包含 1 到 50 的每個數字的平方\n",
    "list_1_to_50_square = [i**2 for i in range(1, 51)]\n",
    "\n",
    "# 使用 enumerate 遍歷列表，並查找特定值 729 的位置\n",
    "for index, num in enumerate(list_1_to_50_square):\n",
    "    if num == 729:\n",
    "        print(\"Index:\", index)\n",
    "        print(\"Value:\", num)\n",
    "        print(\"Value at index:\", list_1_to_50_square[index])\n",
    "        break  # 如果只需要查找第一次出現的位置，可以用 break 退出循環\n",
    "\n",
    "# 打印第 27 個元素（索引從 0 開始，所以是第 26 個索引）\n",
    "print(\"Element at index 26:\", list_1_to_50_square[26])\n"
   ]
  }
 ],
 "metadata": {
  "kernelspec": {
   "display_name": "Python 3",
   "language": "python",
   "name": "python3"
  },
  "language_info": {
   "codemirror_mode": {
    "name": "ipython",
    "version": 3
   },
   "file_extension": ".py",
   "mimetype": "text/x-python",
   "name": "python",
   "nbconvert_exporter": "python",
   "pygments_lexer": "ipython3",
   "version": "3.9.19"
  }
 },
 "nbformat": 4,
 "nbformat_minor": 2
}
