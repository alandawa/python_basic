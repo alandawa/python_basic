{
 "cells": [
  {
   "cell_type": "markdown",
   "metadata": {},
   "source": [
    "### set method\n",
    "在 Python 中，`set`（集合）是一種無序的、不允許重複的數據結構。以下是一些常用的 `set` 方法和操作範例，包括初始化集合、逐一讀取資料、計算資料個數、添加資料、刪除元素等。"
   ]
  },
  {
   "cell_type": "markdown",
   "metadata": {},
   "source": [
    "### Set 初始化\n",
    "可以使用大括號 `{}` 或 `set()` 函數來初始化集合。若使用 `set()` 函數來初始化空集合，記得不能使用 `{}`，因為它會被解讀為空字典。"
   ]
  },
  {
   "cell_type": "code",
   "execution_count": 1,
   "metadata": {},
   "outputs": [
    {
     "name": "stdout",
     "output_type": "stream",
     "text": [
      "初始化的集合: {1, 2, 3, 4, 5}\n",
      "初始化的集合: {1, 2, 3, 4, 5}\n"
     ]
    }
   ],
   "source": [
    "# 使用大括號初始化\n",
    "my_set = {1, 2, 3, 4, 5}\n",
    "print(\"初始化的集合:\", my_set)  # 輸出: {1, 2, 3, 4, 5}\n",
    "\n",
    "# 使用 set() 函數初始化\n",
    "my_set = set([1, 2, 3, 4, 5])\n",
    "print(\"初始化的集合:\", my_set)  # 輸出: {1, 2, 3, 4, 5}"
   ]
  },
  {
   "cell_type": "markdown",
   "metadata": {},
   "source": [
    "### 一筆筆讀資料 : for 迴圈\n",
    "\n",
    "使用 `for` 迴圈來逐一讀取集合中的每個元素。"
   ]
  },
  {
   "cell_type": "code",
   "execution_count": 2,
   "metadata": {},
   "outputs": [
    {
     "name": "stdout",
     "output_type": "stream",
     "text": [
      "集合中的每個元素:\n",
      "1\n",
      "2\n",
      "3\n",
      "4\n",
      "5\n"
     ]
    }
   ],
   "source": [
    "my_set = {1, 2, 3, 4, 5}\n",
    "\n",
    "print(\"集合中的每個元素:\")\n",
    "for item in my_set:\n",
    "    print(item)"
   ]
  },
  {
   "cell_type": "markdown",
   "metadata": {},
   "source": [
    "### 總共有幾筆資料: `len()`\n",
    "\n",
    "使用 `len()` 函數來計算集合中的元素個數。"
   ]
  },
  {
   "cell_type": "code",
   "execution_count": 3,
   "metadata": {},
   "outputs": [
    {
     "name": "stdout",
     "output_type": "stream",
     "text": [
      "集合中的元素個數: 5\n"
     ]
    }
   ],
   "source": [
    "my_set = {1, 2, 3, 4, 5}\n",
    "print(\"集合中的元素個數:\", len(my_set))  # 輸出: 5"
   ]
  },
  {
   "cell_type": "markdown",
   "metadata": {},
   "source": [
    "### 添加一筆資料: `add()`\n",
    "\n",
    "使用 `add()` 方法來添加一個元素到集合中。如果元素已經存在於集合中，不會有任何變化。"
   ]
  },
  {
   "cell_type": "code",
   "execution_count": 4,
   "metadata": {},
   "outputs": [
    {
     "name": "stdout",
     "output_type": "stream",
     "text": [
      "添加後的集合: {1, 2, 3, 4}\n",
      "再次添加後的集合: {1, 2, 3, 4}\n"
     ]
    }
   ],
   "source": [
    "my_set = {1, 2, 3}\n",
    "\n",
    "# 添加一個元素\n",
    "my_set.add(4)\n",
    "print(\"添加後的集合:\", my_set)  # 輸出: {1, 2, 3, 4}\n",
    "\n",
    "# 嘗試添加重複的元素，不會變化\n",
    "my_set.add(4)\n",
    "print(\"再次添加後的集合:\", my_set)  # 輸出: {1, 2, 3, 4}"
   ]
  },
  {
   "cell_type": "markdown",
   "metadata": {},
   "source": [
    "### 添加多筆資料: `update()`\n",
    "\n",
    "使用 `update()` 方法來添加多個元素到集合中，接受一個可迭代對象，如列表或集合。如果集合中已經存在某些元素，這些元素不會被重複添加。"
   ]
  },
  {
   "cell_type": "code",
   "execution_count": 5,
   "metadata": {},
   "outputs": [
    {
     "name": "stdout",
     "output_type": "stream",
     "text": [
      "添加多筆資料後的集合: {1, 2, 3, 4, 5, 6}\n",
      "再次添加後的集合: {1, 2, 3, 4, 5, 6, 7}\n"
     ]
    }
   ],
   "source": [
    "my_set = {1, 2, 3}\n",
    "\n",
    "# 添加多個元素\n",
    "my_set.update([4, 5, 6])\n",
    "print(\"添加多筆資料後的集合:\", my_set)  # 輸出: {1, 2, 3, 4, 5, 6}\n",
    "\n",
    "# 嘗試添加一些已經存在的元素\n",
    "my_set.update([5, 6, 7])\n",
    "print(\"再次添加後的集合:\", my_set)  # 輸出: {1, 2, 3, 4, 5, 6, 7}"
   ]
  },
  {
   "cell_type": "markdown",
   "metadata": {},
   "source": [
    "### 刪除元素: `discard()` 或 `remove()`\n",
    "- 使用 `discard()` 方法來刪除指定的元素。如果元素不存在於集合中，不會引發錯誤。\n",
    "- 使用 `remove()` 方法來刪除指定的元素。如果元素不存在於集合中，會引發 `KeyError`。"
   ]
  },
  {
   "cell_type": "code",
   "execution_count": 6,
   "metadata": {},
   "outputs": [
    {
     "name": "stdout",
     "output_type": "stream",
     "text": [
      "使用 discard() 刪除後的集合: {1, 2, 3, 5}\n",
      "使用 remove() 刪除後的集合: {1, 2, 5}\n"
     ]
    }
   ],
   "source": [
    "my_set = {1, 2, 3, 4, 5}\n",
    "\n",
    "# 使用 discard() 刪除元素\n",
    "my_set.discard(4)\n",
    "print(\"使用 discard() 刪除後的集合:\", my_set)  # 輸出: {1, 2, 3, 5}\n",
    "\n",
    "# 使用 remove() 刪除元素\n",
    "my_set.remove(3)\n",
    "print(\"使用 remove() 刪除後的集合:\", my_set)  # 輸出: {1, 2, 5}\n",
    "\n",
    "# 嘗試使用 remove() 刪除不存在的元素會引發錯誤\n",
    "# my_set.remove(10)  # KeyError: 10\n"
   ]
  }
 ],
 "metadata": {
  "kernelspec": {
   "display_name": "Python 3",
   "language": "python",
   "name": "python3"
  },
  "language_info": {
   "codemirror_mode": {
    "name": "ipython",
    "version": 3
   },
   "file_extension": ".py",
   "mimetype": "text/x-python",
   "name": "python",
   "nbconvert_exporter": "python",
   "pygments_lexer": "ipython3",
   "version": "3.9.19"
  }
 },
 "nbformat": 4,
 "nbformat_minor": 2
}
