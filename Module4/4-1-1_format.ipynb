{
 "cells": [
  {
   "cell_type": "markdown",
   "metadata": {},
   "source": [
    "### `format` \n",
    "\n",
    "以下是 Python 中用於格式化字串的語法及其說明，包括如何插入不同的值、格式化整數和浮點數，以及對齊和寬度設置等：\n",
    "\n",
    "| 語法                          | 說明                                      |\n",
    "|:-----------------------------:|:----------------------------------------:|\n",
    "| `{}`                          | 插入變數的值到字串中 (舊式的 `.format()` 方法) |\n",
    "| `f\"{}\"`                        | 插入變數的值到字串中 (f-string 格式化)    |\n",
    "| `\"{variable}\"`                 | 插入名為 `variable` 的變數值到字串中      |\n",
    "| `\\n`                          | 輸出換行符 (類似跳脫字元)                |"
   ]
  },
  {
   "cell_type": "markdown",
   "metadata": {},
   "source": [
    "### 多組文字\n",
    "- **語法**: `f\"{var1}, {var2}\"`\n",
    "- **說明**: 在格式化字串中插入多個變數值。例如:"
   ]
  },
  {
   "cell_type": "code",
   "execution_count": 1,
   "metadata": {},
   "outputs": [
    {
     "name": "stdout",
     "output_type": "stream",
     "text": [
      "Name: Alice, Age: 30\n"
     ]
    }
   ],
   "source": [
    "name = \"Alice\"\n",
    "age = 30\n",
    "print(f\"Name: {name}, Age: {age}\")"
   ]
  },
  {
   "cell_type": "markdown",
   "metadata": {},
   "source": [
    "### 整數\n",
    "- **語法**: `f\"{value:d}\"`\n",
    "- **說明**: 格式化整數值。例如:"
   ]
  },
  {
   "cell_type": "code",
   "execution_count": 2,
   "metadata": {},
   "outputs": [
    {
     "name": "stdout",
     "output_type": "stream",
     "text": [
      "Number: 123\n"
     ]
    }
   ],
   "source": [
    "number = 123\n",
    "print(f\"Number: {number:d}\")\n"
   ]
  },
  {
   "cell_type": "markdown",
   "metadata": {},
   "source": [
    "### 文字與整數\n",
    "- **語法**: `f\"{text} {number}\"`\n",
    "- **說明**: 插入文字和整數。例如:"
   ]
  },
  {
   "cell_type": "code",
   "execution_count": 3,
   "metadata": {},
   "outputs": [
    {
     "name": "stdout",
     "output_type": "stream",
     "text": [
      "Age: 25\n"
     ]
    }
   ],
   "source": [
    "text = \"Age:\"\n",
    "number = 25\n",
    "print(f\"{text} {number}\")"
   ]
  },
  {
   "cell_type": "markdown",
   "metadata": {},
   "source": [
    "### 指定寬度 (維持 10 個字元長度，預設向右對齊)\n",
    "- **語法**: `f\"{value:10}\"`\n",
    "- **說明**: 指定變數寬度為 10 個字元，預設右對齊。例如:"
   ]
  },
  {
   "cell_type": "code",
   "execution_count": 4,
   "metadata": {},
   "outputs": [
    {
     "name": "stdout",
     "output_type": "stream",
     "text": [
      "        42\n"
     ]
    }
   ],
   "source": [
    "value = 42\n",
    "print(f\"{value:10}\")"
   ]
  },
  {
   "cell_type": "markdown",
   "metadata": {},
   "source": [
    "### 靠左對齊 (維持 10 個字元長度，向左對齊)\n",
    "- **語法**: `f\"{value:<10}\"`\n",
    "- **說明**: 指定變數寬度為 10 個字元，並靠左對齊。例如:"
   ]
  },
  {
   "cell_type": "code",
   "execution_count": 5,
   "metadata": {},
   "outputs": [
    {
     "name": "stdout",
     "output_type": "stream",
     "text": [
      "left      \n"
     ]
    }
   ],
   "source": [
    "value = \"left\"\n",
    "print(f\"{value:<10}\")"
   ]
  },
  {
   "cell_type": "markdown",
   "metadata": {},
   "source": [
    "### 指定浮點數位數\n",
    "- **語法**: `f\"{value:.2f}\"`\n",
    "- **說明**: 指定浮點數顯示為兩位小數。例如:"
   ]
  },
  {
   "cell_type": "code",
   "execution_count": 6,
   "metadata": {},
   "outputs": [
    {
     "name": "stdout",
     "output_type": "stream",
     "text": [
      "3.14\n"
     ]
    }
   ],
   "source": [
    "value = 3.14159\n",
    "print(f\"{value:.2f}\")"
   ]
  },
  {
   "cell_type": "markdown",
   "metadata": {},
   "source": [
    "### 指定文字長度上限 (只有文字，才在格式化字串中加入「.」來限定字串長度)\n",
    "- **語法**: `f\"{text:.5}\"`\n",
    "- **說明**: 指定文字顯示最多 5 個字元。例如:"
   ]
  },
  {
   "cell_type": "code",
   "execution_count": 7,
   "metadata": {},
   "outputs": [
    {
     "name": "stdout",
     "output_type": "stream",
     "text": [
      "Hello\n"
     ]
    }
   ],
   "source": [
    "text = \"Hello, world!\"\n",
    "print(f\"{text:.5}\")"
   ]
  },
  {
   "cell_type": "markdown",
   "metadata": {},
   "source": [
    "### 空白補 0\n",
    "- **語法**: `f\"{value:010}\"`\n",
    "- **說明**: 指定變數寬度為 10 個字元，空白部分用 0 填充。例如:"
   ]
  },
  {
   "cell_type": "code",
   "execution_count": 8,
   "metadata": {},
   "outputs": [
    {
     "name": "stdout",
     "output_type": "stream",
     "text": [
      "0000000042\n"
     ]
    }
   ],
   "source": [
    "value = 42\n",
    "print(f\"{value:010}\")\n"
   ]
  },
  {
   "cell_type": "markdown",
   "metadata": {},
   "source": []
  }
 ],
 "metadata": {
  "kernelspec": {
   "display_name": "Python 3",
   "language": "python",
   "name": "python3"
  },
  "language_info": {
   "codemirror_mode": {
    "name": "ipython",
    "version": 3
   },
   "file_extension": ".py",
   "mimetype": "text/x-python",
   "name": "python",
   "nbconvert_exporter": "python",
   "pygments_lexer": "ipython3",
   "version": "3.9.19"
  }
 },
 "nbformat": 4,
 "nbformat_minor": 2
}
