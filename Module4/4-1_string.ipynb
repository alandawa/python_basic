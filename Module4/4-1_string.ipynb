{
 "cells": [
  {
   "cell_type": "markdown",
   "metadata": {},
   "source": [
    "### `string` \n",
    "\n",
    "以下是每個字串方法的功能描述及其回傳結果的示例。假設我們的測試字串是 `s = \"  Hello World  \"`。"
   ]
  },
  {
   "cell_type": "markdown",
   "metadata": {},
   "source": [
    "\n",
    "\n",
    "| string 方法              | 功能                                              | 回傳結果                                                   |\n",
    "|:------------------------:|:--------------------------------------------------:|:----------------------------------------------------------:|\n",
    "| `str.upper()`            | 將字串中的所有字母轉換為大寫。                     | `\"  HELLO WORLD  \"`                                       |\n",
    "| `str.lower()`            | 將字串中的所有字母轉換為小寫。                     | `\"  hello world  \"`                                       |\n",
    "| `str.title()`            | 將字串中的每個單詞的首字母轉換為大寫。             | `\"  Hello World  \"`                                       |\n",
    "| `str.capitalize()`       | 將字串中的首字母轉換為大寫，其餘字母為小寫。       | `\"  hello world  \"`                                       |\n",
    "| `str.strip()`            | 去除字串開頭和結尾的空白字符。                     | `\"Hello World\"`                                           |\n",
    "| `str.lstrip()`           | 去除字串開頭的空白字符。                           | `\"Hello World  \"`                                         |\n",
    "| `str.rstrip()`           | 去除字串結尾的空白字符。                           | `\"  Hello World\"`                                         |\n",
    "| `str.replace(old, new)`  | 將字串中的 `old` 子字串替換為 `new` 子字串。        | `\"  Hello New World  \"`                                   |\n",
    "| `str.split(separator)`   | 將字串按照 `separator` 分隔成列表。                | `['', 'Hello', 'World', '']`                              |\n",
    "| `str.join(iterable)`     | 將 `iterable` 中的元素連接成一個字串，元素之間用 `str` 分隔。 | `\"a-b-c\"` (如果 `iterable` 是 `['a', 'b', 'c']` 和 `str` 是 `'-'`) |\n",
    "| `str.find(substring)`    | 返回子字串 `substring` 在字串中首次出現的位置，如果找不到則返回 -1。 | `2` (如果 `substring` 是 `\"Hello\"`)                         |\n",
    "| `str.rfind(substring)`   | 返回子字串 `substring` 在字串中最後一次出現的位置，如果找不到則返回 -1。 | `2` (如果 `substring` 是 `\"Hello\"`)                         |\n",
    "| `str.index(substring)`   | 返回子字串 `substring` 在字串中首次出現的位置，如果找不到則引發 `ValueError`。 | `2` (如果 `substring` 是 `\"Hello\"`)                         |\n",
    "| `str.rindex(substring)`  | 返回子字串 `substring` 在字串中最後一次出現的位置，如果找不到則引發 `ValueError`。 | `2` (如果 `substring` 是 `\"Hello\"`)                         |\n",
    "| `str.startswith(prefix)` | 判斷字串是否以 `prefix` 開頭，返回 `True` 或 `False`。 | `False` (如果 `prefix` 是 `\"Hello\"`)                        |\n",
    "| `str.endswith(suffix)`   | 判斷字串是否以 `suffix` 結尾，返回 `True` 或 `False`。 | `False` (如果 `suffix` 是 `\"World\"`)                        |\n",
    "| `str.isdigit()`          | 判斷字串是否僅由數字組成，返回 `True` 或 `False`。    | `False` (對於 `\"  Hello World  \"`)                         |\n",
    "| `str.isalpha()`          | 判斷字串是否僅由字母組成，返回 `True` 或 `False`。    | `False` (對於 `\"  Hello World  \"`)                         |\n",
    "| `str.islower()`          | 判斷字串是否所有字母均為小寫，返回 `True` 或 `False`。 | `False` (對於 `\"  Hello World  \"`)                         |\n",
    "| `str.isupper()`          | 判斷字串是否所有字母均為大寫，返回 `True` 或 `False`。 | `False` (對於 `\"  Hello World  \"`)                         |\n",
    "| `str.isspace()`          | 判斷字串是否僅由空白字符組成，返回 `True` 或 `False`。 | `False` (對於 `\"  Hello World  \"`)                         |\n",
    "| `str.zfill(width)`       | 返回指定寬度的字串，字串不足的部分用 `0` 填充。      | `\"000  Hello World  \"`                                    |\n",
    "\n"
   ]
  },
  {
   "cell_type": "code",
   "execution_count": 1,
   "metadata": {},
   "outputs": [
    {
     "name": "stdout",
     "output_type": "stream",
     "text": [
      "Jarvis\n"
     ]
    }
   ],
   "source": [
    "# 字串變數初始化\n",
    "name = 'Jarvis'\n",
    "print(name)"
   ]
  },
  {
   "cell_type": "code",
   "execution_count": 2,
   "metadata": {},
   "outputs": [
    {
     "name": "stdout",
     "output_type": "stream",
     "text": [
      "Alex\n",
      "Allen\n"
     ]
    }
   ],
   "source": [
    "# 替換字串\n",
    "'''\n",
    "string.replace(str1, str2)\n",
    "將 string 中的 str1 替換成 str2\n",
    "'''\n",
    "name = 'Alex'\n",
    "            # return 一個值回來\n",
    "name2 = name.replace('ex', 'len')\n",
    "print(name)\n",
    "print(name2)"
   ]
  },
  {
   "cell_type": "code",
   "execution_count": 3,
   "metadata": {},
   "outputs": [
    {
     "name": "stdout",
     "output_type": "stream",
     "text": [
      "1  __C1C1C__  1\n",
      "__C1C1C__\n"
     ]
    }
   ],
   "source": [
    "# 去除兩側空格\n",
    "'''\n",
    " 只能string.strip()移除開頭和結尾\n",
    "去除字串 string 左、右兩邊的空格\n",
    "'''\n",
    "string03 = '1  __C1C1C__  1'\n",
    "print(string03)\n",
    "\n",
    "string03 = string03.strip('1')\n",
    "string03 = string03.replace(' ', '')\n",
    "print(string03)"
   ]
  },
  {
   "cell_type": "code",
   "execution_count": 4,
   "metadata": {},
   "outputs": [
    {
     "name": "stdout",
     "output_type": "stream",
     "text": [
      "car\n",
      "GOOD\n"
     ]
    }
   ],
   "source": [
    "# 字串小寫變大寫\n",
    "'''\n",
    "string.lower()\n",
    "將字串 string 裡的字母全部改成小寫\n",
    "'''\n",
    "print('CAR'.lower())\n",
    "\n",
    "\n",
    "'''\n",
    "string.upper()\n",
    "將字串 string 裡的字母全部改成大寫\n",
    "'''\n",
    "print('good'.upper())"
   ]
  },
  {
   "cell_type": "code",
   "execution_count": 5,
   "metadata": {},
   "outputs": [
    {
     "name": "stdout",
     "output_type": "stream",
     "text": [
      "['Hello', 'World', 'Hello', 'John']\n",
      "['早安', '午安']\n"
     ]
    }
   ],
   "source": [
    "# string.split() 把 string 變成 list\n",
    "\n",
    "greeting = 'Hello World Hello John'\n",
    "string5 = '早安，午安'\n",
    "\n",
    "greeting_list = greeting.split()\n",
    "string5_list = string5.split('，')\n",
    "print(greeting_list)\n",
    "print(string5_list)"
   ]
  },
  {
   "cell_type": "code",
   "execution_count": 6,
   "metadata": {},
   "outputs": [
    {
     "name": "stdout",
     "output_type": "stream",
     "text": [
      "CAR\n",
      "CARS\n"
     ]
    }
   ],
   "source": [
    "string02 = 'CAR'\n",
    "# string02[0] = 'c'\n",
    "x = string02.replace('R', 'RS')\n",
    "print(string02)\n",
    "print(x)"
   ]
  }
 ],
 "metadata": {
  "kernelspec": {
   "display_name": "py39",
   "language": "python",
   "name": "python3"
  },
  "language_info": {
   "codemirror_mode": {
    "name": "ipython",
    "version": 3
   },
   "file_extension": ".py",
   "mimetype": "text/x-python",
   "name": "python",
   "nbconvert_exporter": "python",
   "pygments_lexer": "ipython3",
   "version": "3.9.19"
  }
 },
 "nbformat": 4,
 "nbformat_minor": 2
}
