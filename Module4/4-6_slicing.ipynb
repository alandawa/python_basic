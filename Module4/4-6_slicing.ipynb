{
 "cells": [
  {
   "cell_type": "markdown",
   "metadata": {},
   "source": [
    "##### slice 透過 [ : ] 進行分割\n",
    "\n",
    "在 Python 中，透過切片（slicing）操作可以方便地從字串中提取出子字串。切片使用 `[start:stop:step]` 語法來進行，`start` 是起始索引，`stop` 是終止索引（不包括該位置的元素），`step` 是步長。以下是各種切片操作的範例，包括使用正數和負數索引。"
   ]
  },
  {
   "cell_type": "markdown",
   "metadata": {},
   "source": [
    "\n",
    "### 初始化一個字串"
   ]
  },
  {
   "cell_type": "code",
   "execution_count": 1,
   "metadata": {},
   "outputs": [],
   "source": [
    "# 初始化字串\n",
    "text = \"Python programming is fun\""
   ]
  },
  {
   "cell_type": "markdown",
   "metadata": {},
   "source": [
    "### 從頭取到第 5 個字符（不包含第 5 個字符，實際為 0 ~ 4）"
   ]
  },
  {
   "cell_type": "code",
   "execution_count": 2,
   "metadata": {},
   "outputs": [
    {
     "name": "stdout",
     "output_type": "stream",
     "text": [
      "從頭取到第 5 個字符: Pytho\n"
     ]
    }
   ],
   "source": [
    "# 從頭取到第 5 個字符（不包含第 5 個字符）\n",
    "slice1 = text[:5]\n",
    "print(\"從頭取到第 5 個字符:\", slice1)  # 輸出: Python\n"
   ]
  },
  {
   "cell_type": "markdown",
   "metadata": {},
   "source": [
    "### 從第 7 個字符取到尾"
   ]
  },
  {
   "cell_type": "code",
   "execution_count": 3,
   "metadata": {},
   "outputs": [
    {
     "name": "stdout",
     "output_type": "stream",
     "text": [
      "從第 7 個字符取到尾: programming is fun\n"
     ]
    }
   ],
   "source": [
    "# 從第 7 個字符取到尾\n",
    "slice2 = text[7:]\n",
    "print(\"從第 7 個字符取到尾:\", slice2)  # 輸出: programming is fun"
   ]
  },
  {
   "cell_type": "markdown",
   "metadata": {},
   "source": [
    "### 從第 7 個字符取到第 9 個字符（不包含第 9 個字符，實際為 7 ~ 8）"
   ]
  },
  {
   "cell_type": "code",
   "execution_count": 4,
   "metadata": {},
   "outputs": [
    {
     "name": "stdout",
     "output_type": "stream",
     "text": [
      "從第 7 個字符取到第 9 個字符: pr\n"
     ]
    }
   ],
   "source": [
    "# 從第 7 個字符取到第 9 個字符（不包含第 9 個字符）\n",
    "slice3 = text[7:9]\n",
    "print(\"從第 7 個字符取到第 9 個字符:\", slice3)  # 輸出: pr"
   ]
  },
  {
   "cell_type": "markdown",
   "metadata": {},
   "source": [
    "### 使用負號\n",
    "\n",
    "負數索引允許從字串的尾部開始計數。"
   ]
  },
  {
   "cell_type": "markdown",
   "metadata": {},
   "source": [
    "#### 從倒數第 10 個字符取到倒數第 7 個字符（不包含倒數第 7 個字符）"
   ]
  },
  {
   "cell_type": "code",
   "execution_count": 5,
   "metadata": {},
   "outputs": [
    {
     "name": "stdout",
     "output_type": "stream",
     "text": [
      "從倒數第 10 個字符取到倒數第 7 個字符: ing\n"
     ]
    }
   ],
   "source": [
    "# 從倒數第 10 個字符取到倒數第 7 個字符（不包含倒數第 7 個字符）\n",
    "slice4 = text[-10:-7]\n",
    "print(\"從倒數第 10 個字符取到倒數第 7 個字符:\", slice4)  # 輸出: is"
   ]
  },
  {
   "cell_type": "markdown",
   "metadata": {},
   "source": [
    "#### 從倒數第 5 個字符取到尾"
   ]
  },
  {
   "cell_type": "code",
   "execution_count": 6,
   "metadata": {},
   "outputs": [
    {
     "name": "stdout",
     "output_type": "stream",
     "text": [
      "從倒數第 5 個字符取到尾: s fun\n"
     ]
    }
   ],
   "source": [
    "# 從倒數第 5 個字符取到尾\n",
    "slice5 = text[-5:]\n",
    "print(\"從倒數第 5 個字符取到尾:\", slice5)  # 輸出: is fun"
   ]
  },
  {
   "cell_type": "markdown",
   "metadata": {},
   "source": [
    "#### 從頭取到倒數第 7 個字符（不包含倒數第 7 個字符）"
   ]
  },
  {
   "cell_type": "code",
   "execution_count": 7,
   "metadata": {},
   "outputs": [
    {
     "name": "stdout",
     "output_type": "stream",
     "text": [
      "從頭取到倒數第 7 個字符: Python programming\n"
     ]
    }
   ],
   "source": [
    "# 從頭取到倒數第 7 個字符（不包含倒數第 7 個字符）\n",
    "slice6 = text[:-7]\n",
    "print(\"從頭取到倒數第 7 個字符:\", slice6)  # 輸出: Python programming"
   ]
  },
  {
   "cell_type": "markdown",
   "metadata": {},
   "source": [
    "### 取得檔案全名（檔名和副檔名）\n",
    "\n",
    "假設有一個檔案名為 `document.txt`，要取得檔名和副檔名，可以使用切片來分割。"
   ]
  },
  {
   "cell_type": "code",
   "execution_count": 8,
   "metadata": {},
   "outputs": [
    {
     "name": "stdout",
     "output_type": "stream",
     "text": [
      "檔案名稱: document\n",
      "副檔名: txt\n"
     ]
    }
   ],
   "source": [
    "filename = \"document.txt\"\n",
    "\n",
    "# 取得檔案名稱（不包含副檔名）\n",
    "name = filename[:filename.rfind('.')]\n",
    "print(\"檔案名稱:\", name)  # 輸出: document\n",
    "\n",
    "# 取得副檔名（包括 .）\n",
    "extension = filename[filename.rfind('.'):].lstrip('.')\n",
    "print(\"副檔名:\", extension)  # 輸出: txt"
   ]
  }
 ],
 "metadata": {
  "kernelspec": {
   "display_name": "Python 3",
   "language": "python",
   "name": "python3"
  },
  "language_info": {
   "codemirror_mode": {
    "name": "ipython",
    "version": 3
   },
   "file_extension": ".py",
   "mimetype": "text/x-python",
   "name": "python",
   "nbconvert_exporter": "python",
   "pygments_lexer": "ipython3",
   "version": "3.9.19"
  }
 },
 "nbformat": 4,
 "nbformat_minor": 2
}
